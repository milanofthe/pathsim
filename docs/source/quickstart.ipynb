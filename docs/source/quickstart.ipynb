{
 "cells": [
  {
   "cell_type": "raw",
   "metadata": {
    "raw_mimetype": "text/restructuredtext"
   },
   "source": [
    ".. _ref-quickstart:\n"
   ]
  },
  {
   "cell_type": "markdown",
   "metadata": {},
   "source": [
    "# Quickstart\n",
    "\n",
    "This simple example demonstrates the basics of PathSim by integrating a cosine function to produce a sine wave."
   ]
  },
  {
   "cell_type": "raw",
   "metadata": {
    "raw_mimetype": "text/restructuredtext"
   },
   "source": [
    ".. image:: figures/sin_cos_blockdiagram_g.png\n",
    "   :width: 600\n",
    "   :align: center\n",
    "   :alt: cos integration block diagram\n"
   ]
  },
  {
   "cell_type": "markdown",
   "metadata": {},
   "source": [
    "## Setup\n",
    "\n",
    "First, import the necessary modules:"
   ]
  },
  {
   "cell_type": "code",
   "execution_count": null,
   "metadata": {},
   "outputs": [],
   "source": [
    "import numpy as np\n",
    "import matplotlib.pyplot as plt\n",
    "\n",
    "from pathsim import Simulation, Connection\n",
    "from pathsim.blocks import Source, Integrator, Scope\n",
    "\n",
    "# Apply custom plotting style\n",
    "plt.style.use('pathsim_docs.mplstyle')"
   ]
  },
  {
   "cell_type": "markdown",
   "metadata": {},
   "source": [
    "## Build the System\n",
    "\n",
    "Define the blocks that make up our system:"
   ]
  },
  {
   "cell_type": "code",
   "execution_count": null,
   "metadata": {},
   "outputs": [],
   "source": [
    "# Define the blocks of our system\n",
    "Sr = Source(np.cos)                    # Source block that outputs cos(t)\n",
    "In = Integrator()                       # Integrator block\n",
    "Sc = Scope(labels=[\"cos\", \"sin\"])      # Scope to record signals"
   ]
  },
  {
   "cell_type": "markdown",
   "metadata": {},
   "source": [
    "## Create the Simulation\n",
    "\n",
    "Connect the blocks and create a simulation instance:"
   ]
  },
  {
   "cell_type": "code",
   "execution_count": null,
   "metadata": {},
   "outputs": [],
   "source": [
    "# Create simulation with blocks and connections\n",
    "Sim = Simulation(\n",
    "    blocks=[Sr, In, Sc],\n",
    "    connections=[\n",
    "        Connection(Sr, In),      # cosine → integrator\n",
    "        Connection(Sr, Sc[0]),   # cosine → scope channel 0\n",
    "        Connection(In, Sc[1]),   # sine → scope channel 1\n",
    "    ],\n",
    "    dt=0.01\n",
    ")"
   ]
  },
  {
   "cell_type": "markdown",
   "metadata": {},
   "source": [
    "## Run and Visualize\n",
    "\n",
    "Execute the simulation for 10 time units and plot the results:"
   ]
  },
  {
   "cell_type": "code",
   "execution_count": null,
   "metadata": {},
   "outputs": [],
   "source": [
    "# Run for 10 time units\n",
    "Sim.run(10)\n",
    "\n",
    "# Plot the scope\n",
    "Sc.plot(lw=2)\n",
    "plt.show()"
   ]
  },
  {
   "cell_type": "markdown",
   "metadata": {},
   "source": [
    "The plot shows both the original cosine wave and the integrated sine wave, demonstrating how PathSim can simulate continuous-time systems through block-based modeling."
   ]
  }
 ],
 "metadata": {
  "kernelspec": {
   "display_name": "Python [conda env:base] *",
   "language": "python",
   "name": "conda-base-py"
  },
  "language_info": {
   "codemirror_mode": {
    "name": "ipython",
    "version": 3
   },
   "file_extension": ".py",
   "mimetype": "text/x-python",
   "name": "python",
   "nbconvert_exporter": "python",
   "pygments_lexer": "ipython3",
   "version": "3.12.7"
  }
 },
 "nbformat": 4,
 "nbformat_minor": 4
}
