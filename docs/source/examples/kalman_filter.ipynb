{
 "cells": [
  {
   "cell_type": "markdown",
   "id": "0",
   "metadata": {},
   "source": [
    "# Kalman Filter\n",
    "\n",
    "This example demonstrates the **Kalman filter** in PathSim for optimal state estimation of a linear dynamical system from noisy measurements. The filter recursively estimates the state of a moving object by combining predictions from a system model with noisy sensor measurements.\n",
    "\n",
    "You can also find this example as a single file in the [GitHub repository](https://github.com/milanofthe/pathsim/blob/master/examples/example_kalman_filter.py)."
   ]
  },
  {
   "cell_type": "markdown",
   "id": "2",
   "metadata": {},
   "source": [
    "## Import and Setup\n",
    "\n",
    "First let's import the required classes and blocks:"
   ]
  },
  {
   "cell_type": "code",
   "execution_count": 3,
   "id": "3",
   "metadata": {},
   "outputs": [
    {
     "ename": "ImportError",
     "evalue": "cannot import name 'KalmanFilter' from 'pathsim.blocks' (C:\\Users\\milan\\anaconda3\\Lib\\site-packages\\pathsim\\blocks\\__init__.py)",
     "output_type": "error",
     "traceback": [
      "\u001b[1;31m---------------------------------------------------------------------------\u001b[0m",
      "\u001b[1;31mImportError\u001b[0m                               Traceback (most recent call last)",
      "Cell \u001b[1;32mIn[3], line 8\u001b[0m\n\u001b[0;32m      5\u001b[0m plt\u001b[38;5;241m.\u001b[39mstyle\u001b[38;5;241m.\u001b[39muse(\u001b[38;5;124m'\u001b[39m\u001b[38;5;124m../pathsim_docs.mplstyle\u001b[39m\u001b[38;5;124m'\u001b[39m)\n\u001b[0;32m      7\u001b[0m \u001b[38;5;28;01mfrom\u001b[39;00m \u001b[38;5;21;01mpathsim\u001b[39;00m \u001b[38;5;28;01mimport\u001b[39;00m Simulation, Connection\n\u001b[1;32m----> 8\u001b[0m \u001b[38;5;28;01mfrom\u001b[39;00m \u001b[38;5;21;01mpathsim\u001b[39;00m\u001b[38;5;21;01m.\u001b[39;00m\u001b[38;5;21;01mblocks\u001b[39;00m \u001b[38;5;28;01mimport\u001b[39;00m (\n\u001b[0;32m      9\u001b[0m     Constant,\n\u001b[0;32m     10\u001b[0m     Integrator,\n\u001b[0;32m     11\u001b[0m     Adder,\n\u001b[0;32m     12\u001b[0m     WhiteNoise,\n\u001b[0;32m     13\u001b[0m     KalmanFilter,\n\u001b[0;32m     14\u001b[0m     Scope\n\u001b[0;32m     15\u001b[0m )\n",
      "\u001b[1;31mImportError\u001b[0m: cannot import name 'KalmanFilter' from 'pathsim.blocks' (C:\\Users\\milan\\anaconda3\\Lib\\site-packages\\pathsim\\blocks\\__init__.py)"
     ]
    }
   ],
   "source": [
    "import numpy as np\n",
    "import matplotlib.pyplot as plt\n",
    "\n",
    "# Apply PathSim docs matplotlib style\n",
    "plt.style.use('../pathsim_docs.mplstyle')\n",
    "\n",
    "from pathsim import Simulation, Connection\n",
    "from pathsim.blocks import (\n",
    "    Constant,\n",
    "    Integrator,\n",
    "    Adder,\n",
    "    WhiteNoise,\n",
    "    KalmanFilter,\n",
    "    Scope\n",
    ")"
   ]
  },
  {
   "cell_type": "markdown",
   "id": "4",
   "metadata": {},
   "source": [
    "## System Parameters"
   ]
  },
  {
   "cell_type": "markdown",
   "id": "9940669d-3a63-49aa-8105-1bf72128bcf3",
   "metadata": {
    "editable": true,
    "raw_mimetype": "",
    "slideshow": {
     "slide_type": ""
    },
    "tags": []
   },
   "source": [
    "We simulate a simple object moving with constant velocity. The true system has a velocity of 2 m/s, but we can only measure its position with noisy sensors. The Kalman filter will estimate both position and velocity from the noisy position measurements."
   ]
  },
  {
   "cell_type": "code",
   "execution_count": null,
   "id": "6",
   "metadata": {},
   "outputs": [],
   "source": [
    "# Simulation parameters\n",
    "dt = 0.01  # timestep\n",
    "\n",
    "# True system: object moving with constant velocity\n",
    "v_true = 2.0   # m/s\n",
    "x0_true = 0.0  # initial position\n",
    "\n",
    "# Measurement noise characteristics\n",
    "measurement_std = 0.6  # standard deviation of position sensor noise"
   ]
  },
  {
   "cell_type": "markdown",
   "id": "7",
   "metadata": {},
   "source": [
    "## Kalman Filter Configuration"
   ]
  },
  {
   "cell_type": "markdown",
   "id": "1e3b5f18-7c57-4cb7-ade0-5d4821b0b7ff",
   "metadata": {},
   "source": [
    "The Kalman filter requires several matrices:\n",
    "\n",
    "- **F**: State transition matrix (how the state evolves)\n",
    "- **H**: Measurement matrix (what we can observe)\n",
    "- **Q**: Process noise covariance (model uncertainty)\n",
    "- **R**: Measurement noise covariance (sensor uncertainty)\n",
    "- **x0**: Initial state estimate\n",
    "- **P0**: Initial error covariance"
   ]
  },
  {
   "cell_type": "code",
   "execution_count": null,
   "id": "9",
   "metadata": {},
   "outputs": [],
   "source": [
    "# Kalman filter parameters\n",
    "F = np.array([[1, dt], [0, 1]])        # state transition (constant velocity model)\n",
    "H = np.array([[1, 0]])                 # measurement matrix (measure position only)\n",
    "Q = np.diag([0.01, 0.01])              # process noise covariance\n",
    "R = np.array([[measurement_std**2]])   # measurement noise covariance\n",
    "x0_kf = np.array([0, 0])               # initial estimate [position, velocity]\n",
    "P0_kf = np.eye(2) * 1                  # initial covariance"
   ]
  },
  {
   "cell_type": "markdown",
   "id": "10",
   "metadata": {},
   "source": [
    "## System Definition\n",
    "\n",
    "Now we construct the complete system including:\n",
    "- The true system (constant velocity integrator)\n",
    "- Noisy measurement sensor\n",
    "- Kalman filter for state estimation"
   ]
  },
  {
   "cell_type": "code",
   "execution_count": null,
   "id": "11",
   "metadata": {},
   "outputs": [],
   "source": [
    "# True system\n",
    "vel = Constant(v_true)\n",
    "pos = Integrator(x0_true)\n",
    "\n",
    "# Noisy measurement\n",
    "noise = WhiteNoise(spectral_density=measurement_std**2)\n",
    "measured_pos = Adder()\n",
    "\n",
    "# Kalman filter\n",
    "kf = KalmanFilter(F, H, Q, R, x0=x0_kf, P0=P0_kf)\n",
    "\n",
    "# Scopes for recording\n",
    "sc_true = Scope(labels=[\"true position\", \"true velocity\"])\n",
    "sc_meas = Scope(labels=[\"measured position\"])\n",
    "sc_est = Scope(labels=[\"estimated position\", \"estimated velocity\"])\n",
    "\n",
    "blocks = [vel, pos, noise, measured_pos, kf, sc_true, sc_meas, sc_est]"
   ]
  },
  {
   "cell_type": "raw",
   "id": "12",
   "metadata": {
    "editable": true,
    "raw_mimetype": "text/restructuredtext",
    "slideshow": {
     "slide_type": ""
    },
    "tags": []
   },
   "source": [
    "The :class:`.WhiteNoise` block adds Gaussian noise to the true position measurement. The :class:`.KalmanFilter` processes these noisy measurements to estimate both position and velocity."
   ]
  },
  {
   "cell_type": "code",
   "execution_count": null,
   "id": "13",
   "metadata": {
    "editable": true,
    "slideshow": {
     "slide_type": ""
    },
    "tags": []
   },
   "outputs": [],
   "source": [
    "# Connections\n",
    "connections = [\n",
    "    Connection(vel, pos, sc_true[1]),\n",
    "    Connection(pos, measured_pos[0], sc_true[0]),\n",
    "    Connection(noise, measured_pos[1]),\n",
    "    Connection(measured_pos, kf, sc_meas),\n",
    "    Connection(kf[0], sc_est[0]),\n",
    "    Connection(kf[1], sc_est[1])\n",
    "]"
   ]
  },
  {
   "cell_type": "markdown",
   "id": "14",
   "metadata": {},
   "source": [
    "## Simulation Setup and Execution"
   ]
  },
  {
   "cell_type": "code",
   "execution_count": null,
   "id": "15",
   "metadata": {},
   "outputs": [],
   "source": [
    "# Initialize simulation\n",
    "Sim = Simulation(\n",
    "    blocks,\n",
    "    connections,\n",
    "    dt=dt,\n",
    ")\n",
    "\n",
    "# Run the simulation for 20 seconds\n",
    "Sim.run(duration=20)"
   ]
  },
  {
   "cell_type": "markdown",
   "id": "16",
   "metadata": {},
   "source": [
    "## Results: State Tracking\n",
    "\n",
    "Let's visualize how well the Kalman filter tracks the true position and velocity:"
   ]
  },
  {
   "cell_type": "code",
   "execution_count": null,
   "id": "17",
   "metadata": {},
   "outputs": [],
   "source": [
    "# Read data from scopes\n",
    "t_true, [pos_true, vel_true] = sc_true.read()\n",
    "t_meas, [pos_meas] = sc_meas.read()\n",
    "t_est, [pos_est, vel_est] = sc_est.read()\n",
    "\n",
    "# Create comparison plots\n",
    "fig, (ax1, ax2) = plt.subplots(2, 1, figsize=(8, 6), tight_layout=True, dpi=200)\n",
    "\n",
    "# Position comparison\n",
    "ax1.set_title('Kalman Filter: Position and Velocity Estimation')\n",
    "ax1.plot(t_true, pos_true, \"-\", label='True Position')\n",
    "ax1.plot(t_meas, pos_meas, \".\", label='Noisy Measurement')\n",
    "ax1.plot(t_est, pos_est, \"--\", label='Kalman Estimate')\n",
    "ax1.set_ylabel('Position [m]')\n",
    "ax1.legend()\n",
    "\n",
    "# Velocity comparison\n",
    "ax2.plot(t_true, vel_true, \"-\", label='True Velocity')\n",
    "ax2.plot(t_est, vel_est, \"--\", label='Kalman Estimate')\n",
    "ax2.set_ylabel('Velocity [m/s]')\n",
    "ax2.set_xlabel('Time [s]')\n",
    "ax2.legend()\n",
    "\n",
    "plt.show()"
   ]
  },
  {
   "cell_type": "markdown",
   "id": "18",
   "metadata": {},
   "source": [
    "## Estimation Error Analysis\n",
    "\n",
    "Now let's quantify the estimation accuracy by computing and plotting the absolute errors:"
   ]
  },
  {
   "cell_type": "code",
   "execution_count": null,
   "id": "19",
   "metadata": {
    "editable": true,
    "slideshow": {
     "slide_type": ""
    },
    "tags": []
   },
   "outputs": [],
   "source": [
    "# Calculate estimation errors\n",
    "pos_error = np.abs(pos_est - pos_true)\n",
    "vel_error = np.abs(vel_est - vel_true)\n",
    "\n",
    "# Estimation error over time\n",
    "fig2, (ax3, ax4) = plt.subplots(2, 1, figsize=(8, 6), tight_layout=True, dpi=200)\n",
    "\n",
    "ax3.plot(t_est, pos_error)\n",
    "ax3.set_ylabel('Position Error [m]')\n",
    "ax3.set_title('Kalman Filter Estimation Error')\n",
    "\n",
    "ax4.plot(t_est, vel_error)\n",
    "ax4.set_ylabel('Velocity Error [m/s]')\n",
    "ax4.set_xlabel('Time [s]')\n",
    "\n",
    "plt.show()"
   ]
  },
  {
   "cell_type": "markdown",
   "id": "20",
   "metadata": {},
   "source": [
    "## Key Observations\n",
    "\n",
    "The Kalman filter demonstrates several important characteristics:\n",
    "\n",
    "1. **Noise Reduction**: The filter smoothly estimates position despite noisy measurements\n",
    "2. **State Inference**: Velocity is accurately estimated even though only position is measured\n",
    "3. **Convergence**: Estimation errors decrease as the filter processes more measurements\n",
    "4. **Optimality**: The Kalman gain optimally weights model predictions vs. measurements based on their respective uncertainties (Q and R matrices)"
   ]
  }
 ],
 "metadata": {
  "kernelspec": {
   "display_name": "Python [conda env:base] *",
   "language": "python",
   "name": "conda-base-py"
  },
  "language_info": {
   "codemirror_mode": {
    "name": "ipython",
    "version": 3
   },
   "file_extension": ".py",
   "mimetype": "text/x-python",
   "name": "python",
   "nbconvert_exporter": "python",
   "pygments_lexer": "ipython3",
   "version": "3.12.7"
  }
 },
 "nbformat": 4,
 "nbformat_minor": 5
}
