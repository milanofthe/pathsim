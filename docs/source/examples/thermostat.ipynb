{
 "cells": [
  {
   "cell_type": "markdown",
   "id": "0",
   "metadata": {},
   "source": [
    "# Thermostat\n",
    "\n",
    "In this example we have a look at a thermostat, which is a kind off discrete regulator. It switches a heating element on or of depending on defined upper and lower thresholds.\n",
    "\n",
    "You can also find this example as a single file in the [GitHub repository](https://github.com/milanofthe/pathsim/blob/master/examples/examples_event/example_thermostat.py).\n",
    "\n",
    "The continuous dynamics part of the system has the following two ODEs for the two heater states:\n",
    "\n",
    "$$\\begin{cases} \n",
    "\\dot{T} = - a ( T - T_a ) + H & \\text{heater on} \\\\\n",
    "\\dot{T} = - a ( T - T_a )     &  \\text{heater off}\n",
    "\\end{cases}$$"
   ]
  },
  {
   "cell_type": "markdown",
   "id": "1",
   "metadata": {},
   "source": [
    "With some algebraic manipulations we can translate the system equation into a block diagram that can be implemented in PathSim. Note the event manager, that watches the state of the integrator and controls the heater."
   ]
  },
  {
   "cell_type": "raw",
   "id": "2",
   "metadata": {
    "raw_mimetype": "text/restructuredtext"
   },
   "source": [
    ".. image:: figures/figures_g/thermostat_blockdiagram_g.png\n",
    "   :width: 700\n",
    "   :align: center\n",
    "   :alt: block diagram of thermostat system"
   ]
  },
  {
   "cell_type": "raw",
   "id": "3",
   "metadata": {
    "raw_mimetype": "text/restructuredtext"
   },
   "source": [
    "Lets start by importing the :class:`.Simulation` and :class:`.Connection` classes and the required blocks from the block library. In addition to this we also need to define events to detect the threshold crossings for the regulator."
   ]
  },
  {
   "cell_type": "code",
   "execution_count": null,
   "id": "4",
   "metadata": {},
   "outputs": [],
   "source": [
    "import matplotlib.pyplot as plt\n",
    "\n",
    "# Apply PathSim docs matplotlib style for consistent, theme-friendly figures\n",
    "plt.style.use('../pathsim_docs.mplstyle')\n",
    "\n",
    "from pathsim import Simulation, Connection\n",
    "from pathsim.blocks import Integrator, Constant, Scope, Amplifier, Adder\n",
    "\n",
    "# Event managers\n",
    "from pathsim.events import ZeroCrossingUp, ZeroCrossingDown"
   ]
  },
  {
   "cell_type": "markdown",
   "id": "5",
   "metadata": {},
   "source": [
    "Then lets define the system parameters."
   ]
  },
  {
   "cell_type": "code",
   "execution_count": null,
   "id": "6",
   "metadata": {},
   "outputs": [],
   "source": [
    "a = 0.3  # thermal capacity of room\n",
    "Ta = 10  # ambient temperature\n",
    "H = 5    # heater power\n",
    "Kp = 25  # upper temperature threshold \n",
    "Km = 23  # lower temperature threshold"
   ]
  },
  {
   "cell_type": "markdown",
   "id": "7",
   "metadata": {},
   "source": [
    "Now we can construct the continuous dynamic part of the system (its just a linear feedback system) by instantiating the blocks we need with their corresponding prameters and collect them together in a list:"
   ]
  },
  {
   "cell_type": "code",
   "execution_count": null,
   "id": "8",
   "metadata": {},
   "outputs": [],
   "source": [
    "# Blocks that define the system\n",
    "sco = Scope(labels=[\"temperature\", \"heater\"])\n",
    "integ = Integrator(Ta)\n",
    "feedback = Amplifier(-a)\n",
    "heater = Constant(H)\n",
    "ambient = Constant(a*Ta)\n",
    "add = Adder()\n",
    "\n",
    "# Blocks of the main system\n",
    "blocks = [sco, integ, feedback, heater, ambient, add]"
   ]
  },
  {
   "cell_type": "raw",
   "id": "9",
   "metadata": {
    "raw_mimetype": "text/restructuredtext"
   },
   "source": [
    "Afterwards, the connections between the blocks can be defined. The first argument of the :class:`.Connection` class is the source block and its port. The following blocks are the target blocks and their target ports:"
   ]
  },
  {
   "cell_type": "code",
   "execution_count": null,
   "id": "10",
   "metadata": {},
   "outputs": [],
   "source": [
    "# The connections between the blocks\n",
    "connections = [\n",
    "    Connection(integ, feedback, sco),\n",
    "    Connection(feedback, add),\n",
    "    Connection(heater, add[1], sco[1]),\n",
    "    Connection(ambient, add[2]),\n",
    "    Connection(add, integ)\n",
    "]"
   ]
  },
  {
   "cell_type": "markdown",
   "id": "11",
   "metadata": {},
   "source": [
    "Next we need to implement the event managers for the threshold based switching between the two heater states."
   ]
  },
  {
   "cell_type": "code",
   "execution_count": null,
   "id": "12",
   "metadata": {},
   "outputs": [],
   "source": [
    "# Crossing upper threshold -> heater off\n",
    "\n",
    "def func_evt_up(t):\n",
    "    *_, x = integ()\n",
    "    return x - Kp\n",
    "\n",
    "def func_act_up(t):\n",
    "    heater.off()\n",
    "\n",
    "E1 = ZeroCrossingUp(\n",
    "    func_evt=func_evt_up, \n",
    "    func_act=func_act_up\n",
    ")\n",
    "\n",
    "\n",
    "# Crossing lower threshold -> heater on\n",
    "\n",
    "def func_act_down(t):\n",
    "    heater.on()\n",
    " \n",
    "def func_evt_down(t):\n",
    "    *_, x = integ()\n",
    "    return x - Km\n",
    "\n",
    "E2 = ZeroCrossingDown(\n",
    "    func_evt=func_evt_down, \n",
    "    func_act=func_act_down\n",
    ")\n",
    "\n",
    "events = [E1, E2]"
   ]
  },
  {
   "cell_type": "raw",
   "id": "13",
   "metadata": {
    "raw_mimetype": "text/restructuredtext"
   },
   "source": [
    "Finally we can instantiate the :class:`.Simulation` with the blocks, connections, events and some additional parameters such as the timestep. \n",
    "\n",
    "To enable backtracking for the event manager, we need to use an adaptive timestep integrator. Here we go for :class:`.RKBS32` which is a 3rd order Runge-Kutta method and essentially the same as Matlabs ``ode23``."
   ]
  },
  {
   "cell_type": "code",
   "execution_count": null,
   "id": "14",
   "metadata": {},
   "outputs": [],
   "source": [
    "# Import the adaptive integrator to enable backtracking\n",
    "from pathsim.solvers import RKBS32\n",
    "\n",
    "# Initialize simulation \n",
    "Sim = Simulation(\n",
    "    blocks,     \n",
    "    connections, \n",
    "    events, \n",
    "    dt=0.1, \n",
    "    dt_max=0.05, \n",
    "    log=True, \n",
    "    Solver=RKBS32\n",
    ")"
   ]
  },
  {
   "cell_type": "markdown",
   "id": "15",
   "metadata": {},
   "source": [
    "Then we can run the simulation for some duration and see what happens."
   ]
  },
  {
   "cell_type": "code",
   "execution_count": null,
   "id": "16",
   "metadata": {},
   "outputs": [],
   "source": [
    "# Run simulation for some number of seconds\n",
    "Sim.run(30)"
   ]
  },
  {
   "cell_type": "raw",
   "id": "17",
   "metadata": {
    "raw_mimetype": "text/restructuredtext"
   },
   "source": [
    "Due to the object oriented and decentralized nature of PathSim, the :class:`.Scope` block holds the recorded time series data from the simulation internally. It can be plotted directly in an external matplotlib window using the ``plot`` method"
   ]
  },
  {
   "cell_type": "code",
   "execution_count": null,
   "id": "18",
   "metadata": {},
   "outputs": [],
   "source": [
    "# Plot the results from the scope\n",
    "fig, ax = sco.plot()\n",
    "plt.show()"
   ]
  },
  {
   "cell_type": "markdown",
   "id": "19",
   "metadata": {},
   "source": [
    "which looks like this:"
   ]
  },
  {
   "cell_type": "markdown",
   "id": "21",
   "metadata": {},
   "source": [
    "There we can clearly see the switching of the heater and the room temperature oscillating between the upper and lower threshold. We can also add the events to the plot by just iterating the events to get the detected event times"
   ]
  },
  {
   "cell_type": "code",
   "execution_count": null,
   "id": "22",
   "metadata": {},
   "outputs": [],
   "source": [
    "# Thermostat switching events - plot with event markers\n",
    "fig, ax = sco.plot()\n",
    "\n",
    "for e in E1: \n",
    "    ax.axvline(e, ls=\"--\", c=\"#999999\", alpha=0.7, label=\"Upper threshold\" if e == list(E1)[0] else \"\")\n",
    "\n",
    "for e in E2: \n",
    "    ax.axvline(e, ls=\"-.\", c=\"#999999\", alpha=0.7, label=\"Lower threshold\" if e == list(E2)[0] else \"\")\n",
    "\n",
    "ax.legend()\n",
    "plt.show()"
   ]
  },
  {
   "cell_type": "markdown",
   "id": "23",
   "metadata": {},
   "source": [
    "which looks like this:"
   ]
  }
 ],
 "metadata": {
  "kernelspec": {
   "display_name": "Python [conda env:base] *",
   "language": "python",
   "name": "conda-base-py"
  },
  "language_info": {
   "codemirror_mode": {
    "name": "ipython",
    "version": 3
   },
   "file_extension": ".py",
   "mimetype": "text/x-python",
   "name": "python",
   "nbconvert_exporter": "python",
   "pygments_lexer": "ipython3",
   "version": "3.12.7"
  }
 },
 "nbformat": 4,
 "nbformat_minor": 5
}
