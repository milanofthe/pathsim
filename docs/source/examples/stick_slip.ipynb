{
 "cells": [
  {
   "cell_type": "markdown",
   "id": "0",
   "metadata": {},
   "source": [
    "# Stick Slip\n",
    "\n",
    "In this example we simulate a mechanical system that exhibits stick-slip behaviour, typical for coulomb friction. Lets consider the setup below, where we have a box sitting on a driven conveyor belt. The box is also coupled to a fixation by a spring-damper element.\n",
    "\n",
    "You can also find this example as a single file in the [GitHub repository](https://github.com/milanofthe/pathsim/blob/master/examples/examples_event/example_stickslip_event.py)."
   ]
  },
  {
   "cell_type": "raw",
   "id": "1",
   "metadata": {
    "raw_mimetype": "text/restructuredtext"
   },
   "source": ".. image:: figures/figures_g/stick_slip_g.png\n   :width: 700\n   :align: center\n   :alt: schematic of stick slip system"
  },
  {
   "cell_type": "markdown",
   "id": "2",
   "metadata": {},
   "source": [
    "This system has two possible states:\n",
    "   \n",
    "1. The **slip** state where the box oscillates freely. Here we have the dynamical behaviour of a classical damped harmonic oscillator, a 2nd order ODE.\n",
    "\n",
    "2. The **stick** state where box exactly follows the belt. Here the box velocity is clamped to the belt velocity (algebraic constraint) and the system dynamics is reduced to a pure 1st order integration.\n",
    "\n",
    "The two states transition from one to another depending on the relative velocity of the box to the belt and the force acting on the box. If the relative velocity is zero and the force is below some threshold, the system enters the **stick** state. When the force exceeds a certain threshold, the box breaks free and enters the **slip** state.\n",
    "\n",
    "The continuous time dynamics for the two states have the following ODE(s):\n",
    "\n",
    "$$\\begin{cases}\n",
    "m \\ddot{x} = - k x - d \\dot{x} - F_c \\, \\mathrm{sign}\\left( \\dot{x} - v_b \\right) & \\text{slip}  \\\\\n",
    "\\dot{x} = v_b & \\text{stick}\n",
    "\\end{cases}$$"
   ]
  },
  {
   "cell_type": "markdown",
   "id": "3",
   "metadata": {},
   "source": [
    "with the sticking condition:\n",
    "\n",
    "$$|k x + d v_b| \\leq F_c$$\n",
    "\n",
    "the transition condition from **slip to stick**, when:\n",
    "\n",
    "$$\\dot{x} = v_b \\quad \\text{and} \\quad |k x + d v_b| \\leq F_c$$\n",
    "\n",
    "and from **stick to slip**, when\n",
    "\n",
    "$$|k x + d v_b| > F_c$$\n",
    "\n",
    "The resulting switched system is shown in the block diagram below:"
   ]
  },
  {
   "cell_type": "raw",
   "id": "4",
   "metadata": {
    "raw_mimetype": "text/restructuredtext"
   },
   "source": ".. image:: figures/figures_g/stick_slip_blockdiagram_g.png\n   :width: 700\n   :align: center\n   :alt: block diagram of stick slip system"
  },
  {
   "cell_type": "markdown",
   "id": "5",
   "metadata": {},
   "source": [
    "Note that the **event manager** tracks the system state and sets the switch to select the input of the position integrator.\n",
    "\n",
    "The event manager effectively switches between the two signal flow graphs in the figures below. The slipping state:"
   ]
  },
  {
   "cell_type": "raw",
   "id": "6",
   "metadata": {
    "raw_mimetype": "text/restructuredtext"
   },
   "source": ".. image:: figures/figures_g/stick_slip_blockdiagram_slip_g.png\n   :width: 700\n   :align: center\n   :alt: block diagram of stick slip system, slip state"
  },
  {
   "cell_type": "markdown",
   "id": "7",
   "metadata": {},
   "source": [
    "And the stick state where the velocity is clamped and the position is just determined by the integrated belt velocity:"
   ]
  },
  {
   "cell_type": "raw",
   "id": "8",
   "metadata": {
    "raw_mimetype": "text/restructuredtext"
   },
   "source": ".. image:: figures/figures_g/stick_slip_blockdiagram_stick_g.png\n   :width: 700\n   :align: center\n   :alt: block diagram of stick slip system, stick state"
  },
  {
   "cell_type": "raw",
   "id": "9",
   "metadata": {
    "raw_mimetype": "text/restructuredtext"
   },
   "source": [
    "Now lets implement this hybrid dynamical system into PathSim starting with importing the :class:`.Simulation` and :class:`.Connection` classes and the required blocks from the block library:"
   ]
  },
  {
   "cell_type": "code",
   "execution_count": null,
   "id": "10",
   "metadata": {},
   "outputs": [],
   "source": [
    "import numpy as np\n",
    "import matplotlib.pyplot as plt\n",
    "\n",
    "# Apply PathSim docs matplotlib style for consistent, theme-friendly figures\n",
    "plt.style.use('../pathsim_docs.mplstyle')\n",
    "\n",
    "from pathsim import Simulation, Connection\n",
    "\n",
    "# The blocks we need\n",
    "from pathsim.blocks import (\n",
    "    Integrator, Amplifier, Function, \n",
    "    Source, Switch, Adder, Scope\n",
    ")\n",
    "\n",
    "# Event managers\n",
    "from pathsim.events import ZeroCrossing, ZeroCrossingUp\n",
    "\n",
    "# Adaptive explicit integrator (for backtracking)\n",
    "from pathsim.solvers import RKBS32"
   ]
  },
  {
   "cell_type": "markdown",
   "id": "11",
   "metadata": {},
   "source": [
    "Next are the system parameters, including the function definitions for the Source and the Function blocks:"
   ]
  },
  {
   "cell_type": "code",
   "execution_count": null,
   "id": "12",
   "metadata": {},
   "outputs": [],
   "source": [
    "# Initial position and velocity\n",
    "x0, v0 = 0, 0\n",
    "\n",
    "# System parameters\n",
    "m = 20.0    # mass\n",
    "k = 70.0    # spring constant\n",
    "d = 10.0    # spring damping\n",
    "mu = 1.5    # friction coefficient\n",
    "g = 9.81    # gravity\n",
    "v = 3.0     # belt velocity magnitude\n",
    "T = 50.0    # excitation period\n",
    "\n",
    "F_c = mu * m * g # friction force \n",
    "\n",
    "# Function for belt velocity\n",
    "def v_belt(t):\n",
    "    return v * np.sin(2*np.pi*t/T)\n",
    "\n",
    "# Function for coulomb friction force\n",
    "def f_coulomb(v, vb):\n",
    "    return F_c * np.sign(vb - v)"
   ]
  },
  {
   "cell_type": "markdown",
   "id": "13",
   "metadata": {},
   "source": [
    "Now we can construct the system by instantiating the blocks we need with their corresponding prameters and collect them together in a list:"
   ]
  },
  {
   "cell_type": "code",
   "execution_count": null,
   "id": "14",
   "metadata": {},
   "outputs": [],
   "source": [
    "# Blocks that define the system dynamics\n",
    "Sr = Source(v_belt)      # velocity of the belt\n",
    "I1 = Integrator(v0)      # integrator for velocity\n",
    "I2 = Integrator(x0)      # integrator for position\n",
    "A1 = Amplifier(-d)\n",
    "A2 = Amplifier(-k)\n",
    "A3 = Amplifier(1/m)\n",
    "Fc = Function(f_coulomb) # coulomb friction (kinetic)\n",
    "P1 = Adder()\n",
    "Sw = Switch(1)           # selecting port '1' initially\n",
    "\n",
    "# Blocks for visualization\n",
    "Sc1 = Scope(\n",
    "    labels=[\n",
    "        \"belt velocity\", \n",
    "        \"box velocity\", \n",
    "        \"box position\"\n",
    "    ]\n",
    ")\n",
    "Sc2 = Scope(\n",
    "    labels=[\n",
    "        \"box force\",\n",
    "        \"coulomb force\"\n",
    "    ]\n",
    ")\n",
    "\n",
    "blocks = [Sr, I1, I2, A1, A2, A3, Fc, P1, Sw, Sc1, Sc2]"
   ]
  },
  {
   "cell_type": "raw",
   "id": "15",
   "metadata": {
    "raw_mimetype": "text/restructuredtext"
   },
   "source": [
    "Afterwards, the connections between the blocks can be defined. The first argument of the :class:`.Connection` class is the source block and its port (``Src[0]`` would be port ``0`` of the instance of the :class:`.Source` block, which is also the default port)."
   ]
  },
  {
   "cell_type": "code",
   "execution_count": null,
   "id": "16",
   "metadata": {},
   "outputs": [],
   "source": [
    "# Connections between the blocks\n",
    "connections = [\n",
    "    Connection(I1, Sw[1], Fc[0]), \n",
    "    Connection(Sr, Sw[0], Fc[1], Sc1[0]), \n",
    "    Connection(Sw, I2, A1, Sc1[1]), \n",
    "    Connection(I2, A2, Sc1[2]), \n",
    "    Connection(A1, P1[0]), \n",
    "    Connection(A2, P1[1]), \n",
    "    Connection(Fc, P1[2], Sc2[1]),\n",
    "    Connection(P1, A3, Sc2[0]), \n",
    "    Connection(A3, I1)\n",
    "]"
   ]
  },
  {
   "cell_type": "raw",
   "id": "17",
   "metadata": {
    "raw_mimetype": "text/restructuredtext"
   },
   "source": [
    "Next we need to define the two event managers for the state transitions of the system. They are of type :class:`.ZeroCrossing`:"
   ]
  },
  {
   "cell_type": "code",
   "execution_count": null,
   "id": "18",
   "metadata": {},
   "outputs": [],
   "source": [
    "# Event for slip -> stick transition\n",
    "\n",
    "def slip_to_stick_evt(t):\n",
    "    _1, v_box , _2 = Sw() \n",
    "    _1, v_belt, _2 = Sr()\n",
    "    dv = v_box - v_belt \n",
    "\n",
    "    return dv\n",
    "\n",
    "def slip_to_stick_act(t):\n",
    "\n",
    "    # Change switch state\n",
    "    Sw.select(0)\n",
    "\n",
    "    I1.off()\n",
    "    Fc.off()\n",
    "\n",
    "    E_slip_to_stick.off()\n",
    "    E_stick_to_slip.on()\n",
    "   \n",
    "E_slip_to_stick = ZeroCrossing(\n",
    "    func_evt=slip_to_stick_evt,                 \n",
    "    func_act=slip_to_stick_act, \n",
    "    tolerance=1e-3\n",
    ")\n",
    "\n",
    "\n",
    "# Event for stick -> slip transition\n",
    "\n",
    "def stick_to_slip_evt(t):\n",
    "    _1, F, _2 = P1()\n",
    "    return F_c - abs(F)\n",
    "\n",
    "def stick_to_slip_act(t):\n",
    "\n",
    "    # Change switch state\n",
    "    Sw.select(1)\n",
    "\n",
    "    I1.on()\n",
    "    Fc.on()\n",
    "\n",
    "    # Set integrator state\n",
    "    _1, v_box , _2 = Sw() \n",
    "    I1.engine.set(v_box)\n",
    "\n",
    "    E_slip_to_stick.on()\n",
    "    E_stick_to_slip.off()\n",
    "\n",
    "E_stick_to_slip = ZeroCrossing(\n",
    "    func_evt=stick_to_slip_evt,                 \n",
    "    func_act=stick_to_slip_act, \n",
    "    tolerance=1e-3\n",
    ")\n",
    "\n",
    "\n",
    "events = [E_slip_to_stick, E_stick_to_slip]"
   ]
  },
  {
   "cell_type": "raw",
   "id": "19",
   "metadata": {
    "raw_mimetype": "text/restructuredtext"
   },
   "source": [
    "Finally we can instantiate the :class:`.Simulation` with the blocks, connections, events and some additional parameters such as the timestep. We use an adaptive timestep ODE solver :class:`.RKBS32` (its essentially the same as Matlabs ``ode23``) so the event managemant system can use backtracking to accurately locate the events. Then we can run the simulation for some duration which is set as ``2*T`` (two periods of the source term) in this example."
   ]
  },
  {
   "cell_type": "code",
   "execution_count": null,
   "id": "20",
   "metadata": {},
   "outputs": [],
   "source": [
    "# Create a simulation instance from the blocks and connections\n",
    "Sim = Simulation(\n",
    "    blocks, \n",
    "    connections, \n",
    "    events,\n",
    "    dt=0.01, \n",
    "    dt_max=0.1, \n",
    "    log=True, \n",
    "    Solver=RKBS32, \n",
    "    tolerance_lte_abs=1e-6, \n",
    "    tolerance_lte_rel=1e-4\n",
    ")\n",
    "\n",
    "# Run the simulation for some time\n",
    "Sim.run(2*T)"
   ]
  },
  {
   "cell_type": "markdown",
   "id": "21",
   "metadata": {},
   "source": [
    "Lets have a look at the scopes and see what we got for the position and velocity:"
   ]
  },
  {
   "cell_type": "code",
   "execution_count": null,
   "id": "22",
   "metadata": {},
   "outputs": [],
   "source": "# Plot the recordings from the first scope\nfig, ax = Sc1.plot(\"-\", lw=2)\nplt.show()"
  },
  {
   "cell_type": "markdown",
   "id": "24",
   "metadata": {},
   "source": [
    "And the scope that recorded the forces:"
   ]
  },
  {
   "cell_type": "code",
   "execution_count": null,
   "id": "25",
   "metadata": {},
   "outputs": [],
   "source": "# Plot the recordings from the second scope\nfig, ax = Sc2.plot(\"-\", lw=2)\nplt.show()"
  }
 ],
 "metadata": {
  "kernelspec": {
   "display_name": "Python 3",
   "language": "python",
   "name": "python3"
  },
  "language_info": {
   "codemirror_mode": {
    "name": "ipython",
    "version": 3
   },
   "file_extension": ".py",
   "mimetype": "text/x-python",
   "name": "python",
   "nbconvert_exporter": "python",
   "pygments_lexer": "ipython3"
  }
 },
 "nbformat": 4,
 "nbformat_minor": 5
}