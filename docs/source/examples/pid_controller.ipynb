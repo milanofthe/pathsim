{
 "cells": [
  {
   "cell_type": "markdown",
   "metadata": {},
   "source": [
    "# PID Controller\n",
    "\n",
    "This example demonstrates a PID (Proportional-Integral-Derivative) controller in PathSim, including automatic differentiation for sensitivity analysis. The system tracks a step-changing setpoint and computes how the error signal responds to changes in PID parameters.\n",
    "\n",
    "You can also find this example as a single file in the [GitHub repository](https://github.com/milanofthe/pathsim/blob/master/examples/example_pid.py)."
   ]
  },
  {
   "cell_type": "raw",
   "metadata": {},
   "source": [
    "The control system uses a :class:`.PID` controller block that computes the control signal based on the error between setpoint and output. The plant is modeled as an :class:`.Integrator` with a gain. As a block diagram it looks like this:\n",
    "\n",
    ".. image:: figures/figures_g/pid_blockdiagram_g.png\n",
    "   :width: 700\n",
    "   :align: center\n",
    "   :alt: block diagram of a pid controlled plant"
   ]
  },
  {
   "cell_type": "markdown",
   "metadata": {},
   "source": [
    "## Import and Setup\n",
    "\n",
    "First let's import the required classes and blocks:"
   ]
  },
  {
   "cell_type": "code",
   "execution_count": null,
   "metadata": {},
   "outputs": [],
   "source": [
    "import numpy as np\n",
    "import matplotlib.pyplot as plt\n",
    "\n",
    "# Apply PathSim docs matplotlib style\n",
    "plt.style.use('../pathsim_docs.mplstyle')\n",
    "\n",
    "from pathsim import Simulation, Connection\n",
    "from pathsim.blocks import Source, Integrator, Amplifier, Adder, Scope, PID\n",
    "from pathsim.solvers import RKCK54\n",
    "from pathsim.optim import Value"
   ]
  },
  {
   "cell_type": "markdown",
   "metadata": {},
   "source": [
    "## System Parameters"
   ]
  },
  {
   "cell_type": "raw",
   "metadata": {},
   "source": [
    "We define the plant gain and PID parameters. Notice that we use :class:`.Value` to create the PID parameters - this enables automatic differentiation for sensitivity analysis."
   ]
  },
  {
   "cell_type": "code",
   "execution_count": null,
   "metadata": {},
   "outputs": [],
   "source": [
    "# Plant gain\n",
    "K = 0.4\n",
    "\n",
    "# PID parameters (using Value for automatic differentiation)\n",
    "Kp, Ki, Kd = Value.array([1.5, 0.5, 0.1])\n",
    "\n",
    "# Setpoint function - step changes at t=20s and t=60s\n",
    "def f_s(t):\n",
    "    if t > 60:\n",
    "        return 0.5\n",
    "    elif t > 20:\n",
    "        return 1\n",
    "    else:\n",
    "        return 0"
   ]
  },
  {
   "cell_type": "markdown",
   "metadata": {},
   "source": [
    "## System Definition\n",
    "\n",
    "Now we can construct the system by instantiating the blocks we need and collecting them in a list:"
   ]
  },
  {
   "cell_type": "code",
   "execution_count": null,
   "metadata": {},
   "outputs": [],
   "source": [
    "# Blocks\n",
    "spt = Source(f_s)  \n",
    "err = Adder(\"+-\")  # Computes setpoint - output\n",
    "pid = PID(Kp, Ki, Kd, f_max=10)  # PID with saturation\n",
    "pnt = Integrator()\n",
    "pgn = Amplifier(K)\n",
    "sco = Scope(labels=[\"s(t)\", \"x(t)\", r\"$\\epsilon(t)$\"])\n",
    "\n",
    "blocks = [spt, err, pid, pnt, pgn, sco]"
   ]
  },
  {
   "cell_type": "raw",
   "metadata": {},
   "source": [
    "The connections form a feedback control loop. The :class:`.Adder` block with signature ``\"+-\"`` computes the error signal by subtracting the plant output from the setpoint."
   ]
  },
  {
   "cell_type": "code",
   "execution_count": null,
   "metadata": {},
   "outputs": [],
   "source": [
    "connections = [\n",
    "    Connection(spt, err, sco[0]),      # Setpoint to error and scope\n",
    "    Connection(pgn, err[1], sco[1]),   # Output to error (negative) and scope\n",
    "    Connection(err, pid, sco[2]),      # Error to PID and scope\n",
    "    Connection(pid, pnt),              # PID output to plant\n",
    "    Connection(pnt, pgn)               # Plant to gain\n",
    "]"
   ]
  },
  {
   "cell_type": "markdown",
   "metadata": {},
   "source": [
    "## Simulation Setup and Execution"
   ]
  },
  {
   "cell_type": "raw",
   "metadata": {},
   "source": [
    "We initialize the simulation with the :class:`.RKCK54` solver (Runge-Kutta Cash-Karp 5th order with adaptive step size)."
   ]
  },
  {
   "cell_type": "code",
   "execution_count": null,
   "metadata": {},
   "outputs": [],
   "source": [
    "# Simulation initialization\n",
    "Sim = Simulation(blocks, connections, Solver=RKCK54)\n",
    "\n",
    "# Run the simulation for 100 seconds\n",
    "Sim.run(100)"
   ]
  },
  {
   "cell_type": "markdown",
   "metadata": {},
   "source": [
    "## Results\n",
    "\n",
    "Let's plot the setpoint, output, and error signals to see how well the PID controller tracks the setpoint:"
   ]
  },
  {
   "cell_type": "code",
   "execution_count": null,
   "metadata": {},
   "outputs": [],
   "source": [
    "sco.plot(\".-\", lw=2)\n",
    "plt.show()"
   ]
  },
  {
   "cell_type": "markdown",
   "metadata": {},
   "source": [
    "## Sensitivity Analysis"
   ]
  },
  {
   "cell_type": "raw",
   "metadata": {},
   "source": [
    "One of PathSim's powerful features is automatic differentiation through the :class:`.Value` class. We can compute how sensitive the error signal is to each PID parameter using ``Value.der()``."
   ]
  },
  {
   "cell_type": "code",
   "execution_count": null,
   "metadata": {},
   "outputs": [],
   "source": [
    "# Extract time and signals\n",
    "time, [sp, ot, er] = sco.read()\n",
    "\n",
    "# Plot sensitivities\n",
    "fig, ax = plt.subplots(figsize=(8, 4), dpi=120, tight_layout=True)\n",
    "\n",
    "ax.plot(time, Value.der(er, Kp), lw=2, label=r\"$\\partial \\epsilon / \\partial K_p $\")\n",
    "ax.plot(time, Value.der(er, Ki), lw=2, label=r\"$\\partial \\epsilon / \\partial K_i $\")\n",
    "ax.plot(time, Value.der(er, Kd), lw=2, label=r\"$\\partial \\epsilon / \\partial K_d $\")\n",
    "\n",
    "ax.legend(fancybox=False)\n",
    "ax.set_xlabel(\"time [s]\")\n",
    "ax.set_ylabel(\"Sensitivity\")\n",
    "ax.grid()\n",
    "\n",
    "plt.show()"
   ]
  },
  {
   "cell_type": "markdown",
   "metadata": {},
   "source": [
    "The sensitivity plot shows which parameters most affect system performance. This information is useful for PID tuning and understanding the controller's behavior."
   ]
  }
 ],
 "metadata": {
  "kernelspec": {
   "display_name": "Python [conda env:base] *",
   "language": "python",
   "name": "conda-base-py"
  },
  "language_info": {
   "codemirror_mode": {
    "name": "ipython",
    "version": 3
   },
   "file_extension": ".py",
   "mimetype": "text/x-python",
   "name": "python",
   "nbconvert_exporter": "python",
   "pygments_lexer": "ipython3",
   "version": "3.12.7"
  }
 },
 "nbformat": 4,
 "nbformat_minor": 4
}
