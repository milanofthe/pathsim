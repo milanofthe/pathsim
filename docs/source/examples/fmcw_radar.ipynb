{
 "cells": [
  {
   "cell_type": "markdown",
   "id": "0",
   "metadata": {},
   "source": [
    "# FMCW Radar\n",
    "\n",
    "In this example we simulate a simple frequency modulated continuous wave (FMCW) radar system.\n",
    "\n",
    "You can also find this example as a single file in the [GitHub repository](https://github.com/milanofthe/pathsim/blob/master/examples/example_radar.py).\n",
    "\n",
    "Below we have a very simplistic image of a radar system, it consists of a signal generator, transmitter/reciever chain and directed antennas. The fundamental working principle of a FMCW radar is that if we multiply a chirp signal (linearly frequency modulated sinusoid) with a delayed version of itself, we get a signal that has at each time two frequency components (sum and diffrerence). The low frequency component then is directly proportional to the phase shift between the two signals and this the time delay. This can be used to reconstruct the target distance from the frequency domain spectrum."
   ]
  },
  {
   "cell_type": "raw",
   "id": "1",
   "metadata": {
    "raw_mimetype": "text/restructuredtext"
   },
   "source": [
    ".. image:: figures/figures_g/fmcw_g.png\n",
    "   :width: 700\n",
    "   :align: center\n",
    "   :alt: radar system"
   ]
  },
  {
   "cell_type": "markdown",
   "id": "2",
   "metadata": {},
   "source": [
    "The figure below shows the block diagram of a very basic FMCW radar system consisting of a chirp source (sinusoid with a linearly time dependent frequency), a delay (to model the signal propagation), a multiplier (to model a mixer), a low pass filter and of course blocks for time series and frequency domain data recording."
   ]
  },
  {
   "cell_type": "raw",
   "id": "3",
   "metadata": {
    "raw_mimetype": "text/restructuredtext"
   },
   "source": [
    ".. image:: figures/figures_g/fmcw_blockdiagram_g.png\n",
    "   :width: 700\n",
    "   :align: center\n",
    "   :alt: block diagram of simple fmcw radar system"
   ]
  },
  {
   "cell_type": "markdown",
   "id": "4",
   "metadata": {},
   "source": [
    "Lets start by importing the requred classes from PathSim:"
   ]
  },
  {
   "cell_type": "code",
   "execution_count": null,
   "id": "5",
   "metadata": {},
   "outputs": [],
   "source": [
    "import numpy as np\n",
    "import matplotlib.pyplot as plt\n",
    "\n",
    "# Apply PathSim docs matplotlib style for consistent, theme-friendly figures\n",
    "plt.style.use('../pathsim_docs.mplstyle')\n",
    "\n",
    "from pathsim import Simulation, Connection\n",
    "\n",
    "# From the block library\n",
    "from pathsim.blocks import Multiplier, Scope, Adder, Spectrum, Delay, ChirpSource, ButterworthLowpassFilter"
   ]
  },
  {
   "cell_type": "raw",
   "id": "6",
   "metadata": {
    "raw_mimetype": "text/restructuredtext"
   },
   "source": [
    "Now lets define the system parameters starting with the :class:`.ChirpSource`, which is defined by the starting frequency, the bandwith and the ramp duration."
   ]
  },
  {
   "cell_type": "code",
   "execution_count": null,
   "id": "7",
   "metadata": {},
   "outputs": [],
   "source": [
    "# Natural constants (approximately)\n",
    "c0 = 3e8  \n",
    "\n",
    "# Chirp parameters\n",
    "B, T, f_min = 5e9, 5e-7, 1e9\n",
    "\n",
    "# Delay for target emulation\n",
    "tau = 2e-9\n",
    "\n",
    "# For reference, the expected target distance\n",
    "R = c0 * tau / 2\n",
    "\n",
    "# And the corresponding frequency\n",
    "f_trg = 2 * R * B / (T * c0)"
   ]
  },
  {
   "cell_type": "markdown",
   "id": "8",
   "metadata": {},
   "source": [
    "Next we can build the system by defining the blocks and their connections:"
   ]
  },
  {
   "cell_type": "code",
   "execution_count": null,
   "id": "9",
   "metadata": {},
   "outputs": [],
   "source": [
    "Src = ChirpSource(f0=f_min, BW=B, T=T)\n",
    "Add = Adder()\n",
    "Dly = Delay(tau)\n",
    "Mul = Multiplier()\n",
    "Lpf = ButterworthLowpassFilter(f_trg*3, n=2)\n",
    "Spc = Spectrum(\n",
    "    freq=np.logspace(6, 10, 500), \n",
    "    labels=[\"chirp\", \"delay\", \"mixer\", \"lpf\"]\n",
    ")\n",
    "Sco = Scope(\n",
    "    labels=[\"chirp\", \"delay\", \"mixer\", \"lpf\"]\n",
    ")\n",
    "\n",
    "# Collecting the blocks in a list\n",
    "blocks = [Src, Add,  Dly, Mul, Lpf, Spc, Sco]\n",
    "\n",
    "# Connections between the blocks\n",
    "connections = [\n",
    "    Connection(Src, Add[0]),\n",
    "    Connection(Add, Dly, Mul, Sco, Spc),\n",
    "    Connection(Dly, Mul[1], Sco[1], Spc[1]),\n",
    "    Connection(Mul, Lpf, Sco[2], Spc[2]),\n",
    "    Connection(Lpf, Sco[3], Spc[3])\n",
    "]"
   ]
  },
  {
   "cell_type": "markdown",
   "id": "10",
   "metadata": {},
   "source": [
    "Now we are ready to initialize the simulation and run it for some time. Here it makes sense to run it for the duration of one chirp period:"
   ]
  },
  {
   "cell_type": "code",
   "execution_count": null,
   "id": "11",
   "metadata": {},
   "outputs": [],
   "source": [
    "# Initialize simulation\n",
    "Sim = Simulation(blocks, connections, dt=1e-11, log=True)\n",
    "\n",
    "# Run simulation for one chirp period\n",
    "Sim.run(T)"
   ]
  },
  {
   "cell_type": "markdown",
   "id": "12",
   "metadata": {},
   "source": [
    "Lets have a look at the time series data first. We can do this by calling the `plot` method of the scope instance. Here we have four traces which we can toggle on and off."
   ]
  },
  {
   "cell_type": "code",
   "execution_count": null,
   "id": "13",
   "metadata": {},
   "outputs": [],
   "source": [
    "# Read the data from the scope\n",
    "time, data = Sco.read()  # data is a list of 4 arrays\n",
    "\n",
    "# Create a custom plot\n",
    "fig, ax = plt.subplots(figsize=(10, 5), tight_layout=True, dpi=120)\n",
    "for i, signal in enumerate(data):\n",
    "    ax.plot(time, signal, label=f\"Channel {i+1}\")\n",
    "ax.set_xlabel(\"Time [s]\")\n",
    "ax.set_ylabel(\"Signal\")\n",
    "ax.set_title(\"Scope Recording\")\n",
    "ax.legend()\n",
    "ax.grid(True)\n",
    "plt.show()"
   ]
  },
  {
   "cell_type": "markdown",
   "id": "22",
   "metadata": {},
   "source": [
    "It only really gets interesting in the frequency domain. So lets look at the spectrum block (and scale it logarithmically):"
   ]
  },
  {
   "cell_type": "code",
   "execution_count": null,
   "id": "23",
   "metadata": {},
   "outputs": [],
   "source": [
    "# Read the data from the spectrum\n",
    "freq, data = Spc.read()  # data is a list of 4 arrays\n",
    "\n",
    "# Create a custom plot\n",
    "fig, ax = plt.subplots(figsize=(10, 5), tight_layout=True, dpi=120)\n",
    "for i, signal in enumerate(data):\n",
    "    ax.loglog(freq, signal, label=f\"Channel {i+1}\")\n",
    "ax.set_xlabel(\"Freq [Hz]\")\n",
    "ax.set_ylabel(\"Magnitude\")\n",
    "ax.set_title(\"Frequency Spectrum\")\n",
    "ax.legend()\n",
    "ax.grid(True)\n",
    "plt.show()"
   ]
  },
  {
   "cell_type": "markdown",
   "id": "24",
   "metadata": {},
   "source": [
    "In the spectrum the trace of interest is the output of the low pass filter (purple trace) which is intended to select the signal component that represents the delay, or radar distance. The position of the peak corresponds directly to the target distance, represented by the delay block."
   ]
  },
  {
   "cell_type": "markdown",
   "id": "26",
   "metadata": {},
   "source": [
    "Isolating the spectrum of the lowpass filter and adding the expected target distance (as a frequency) to the plot shows that the FMCW radar system can indeed correctly resolve the range:"
   ]
  },
  {
   "cell_type": "code",
   "execution_count": 1,
   "id": "27",
   "metadata": {},
   "outputs": [
    {
     "ename": "NameError",
     "evalue": "name 'Spc' is not defined",
     "output_type": "error",
     "traceback": [
      "\u001b[1;31m---------------------------------------------------------------------------\u001b[0m",
      "\u001b[1;31mNameError\u001b[0m                                 Traceback (most recent call last)",
      "Cell \u001b[1;32mIn[1], line 6\u001b[0m\n\u001b[0;32m      1\u001b[0m \u001b[38;5;66;03m# Add target frequency indicator\u001b[39;00m\n\u001b[1;32m----> 6\u001b[0m fig, ax \u001b[38;5;241m=\u001b[39m Spc\u001b[38;5;241m.\u001b[39mplot()\n\u001b[0;32m      7\u001b[0m ax\u001b[38;5;241m.\u001b[39maxvline(f_trg, ls\u001b[38;5;241m=\u001b[39m\u001b[38;5;124m\"\u001b[39m\u001b[38;5;124m--\u001b[39m\u001b[38;5;124m\"\u001b[39m, c\u001b[38;5;241m=\u001b[39m\u001b[38;5;124m\"\u001b[39m\u001b[38;5;124mk\u001b[39m\u001b[38;5;124m\"\u001b[39m)\n\u001b[0;32m      8\u001b[0m ax\u001b[38;5;241m.\u001b[39mset_xscale(\u001b[38;5;124m\"\u001b[39m\u001b[38;5;124mlog\u001b[39m\u001b[38;5;124m\"\u001b[39m)\n",
      "\u001b[1;31mNameError\u001b[0m: name 'Spc' is not defined"
     ]
    }
   ],
   "source": [
    "# Read the data from the spectrum\n",
    "freq, data = Spc.read()  # data is a list of 4 arrays\n",
    "\n",
    "# Create a custom plot\n",
    "fig, ax = plt.subplots(figsize=(10, 5), tight_layout=True, dpi=120)\n",
    "for i, signal in enumerate(data):\n",
    "    ax.loglog(freq, signal, label=f\"Channel {i+1}\")\n",
    "\n",
    "# Add target frequency indicator\n",
    "ax.axvline(f_trg, ls=\"--\", c=\"grey\")\n",
    "\n",
    "ax.set_xlabel(\"Freq [Hz]\")\n",
    "ax.set_ylabel(\"Magnitude\")\n",
    "ax.set_title(\"Frequency Spectrum\")\n",
    "ax.legend()\n",
    "ax.grid(True)\n",
    "plt.show()"
   ]
  }
 ],
 "metadata": {
  "kernelspec": {
   "display_name": "Python [conda env:base] *",
   "language": "python",
   "name": "conda-base-py"
  },
  "language_info": {
   "codemirror_mode": {
    "name": "ipython",
    "version": 3
   },
   "file_extension": ".py",
   "mimetype": "text/x-python",
   "name": "python",
   "nbconvert_exporter": "python",
   "pygments_lexer": "ipython3",
   "version": "3.12.7"
  }
 },
 "nbformat": 4,
 "nbformat_minor": 5
}
