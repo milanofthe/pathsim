{
 "cells": [
  {
   "cell_type": "markdown",
   "metadata": {},
   "source": [
    "# Harmonic Oscillator\n",
    "\n",
    "In this example we have a look at the damped harmonic oscillator. A linear dynamical system that models a spring-mass-damper system.\n",
    "\n",
    "You can also find this example as a single file in the [GitHub repository](https://github.com/milanofthe/pathsim/blob/master/examples/example_harmonic_oscillator.py)."
   ]
  },
  {
   "cell_type": "raw",
   "metadata": {
    "raw_mimetype": "text/restructuredtext"
   },
   "source": [
    ".. image:: figures/figures_g/harmonic_oscillator_g.png\n",
    "   :width: 700\n",
    "   :align: center\n",
    "   :alt: block diagram of hamronic oscillator\n"
   ]
  },
  {
   "cell_type": "markdown",
   "metadata": {},
   "source": [
    "The equation of motion that defines the harmonic oscillator is given by\n",
    "\n",
    "$$\\ddot{x} + \\frac{c}{m} \\dot{x} + \\frac{k}{m} x = 0$$\n",
    "\n",
    "where $c$ is the damping, $k$ the spring constant (stiffness) and $m$ the mass. The corresponding block diagram can be translated into a netlist by using the blocks and the connection class provided by PathSim."
   ]
  },
  {
   "cell_type": "raw",
   "metadata": {
    "raw_mimetype": "text/restructuredtext"
   },
   "source": [
    "First let's import the :class:`.Simulation` and :class:`.Connection` classes and the required blocks from the block library:\n"
   ]
  },
  {
   "cell_type": "code",
   "execution_count": null,
   "metadata": {},
   "outputs": [],
   "source": [
    "import matplotlib.pyplot as plt\n",
    "\n",
    "# Apply PathSim docs matplotlib style\n",
    "plt.style.use('../pathsim_docs.mplstyle')\n",
    "\n",
    "from pathsim import Simulation, Connection\n",
    "from pathsim.blocks import Integrator, Amplifier, Adder, Scope"
   ]
  },
  {
   "cell_type": "markdown",
   "metadata": {},
   "source": [
    "Then let's define the system parameters:"
   ]
  },
  {
   "cell_type": "code",
   "execution_count": null,
   "metadata": {},
   "outputs": [],
   "source": [
    "# Initial position and velocity\n",
    "x0, v0 = 2, 5\n",
    "\n",
    "# Parameters (mass, damping, spring constant)\n",
    "m, c, k = 0.8, 0.2, 1.5"
   ]
  },
  {
   "cell_type": "markdown",
   "metadata": {},
   "source": [
    "Now we can construct the system by instantiating the blocks we need (from the block diagram above) with their corresponding parameters and collect them together in a list:"
   ]
  },
  {
   "cell_type": "code",
   "execution_count": null,
   "metadata": {},
   "outputs": [],
   "source": [
    "# Blocks that define the system\n",
    "I1 = Integrator(v0)   # integrator for velocity\n",
    "I2 = Integrator(x0)   # integrator for position\n",
    "A1 = Amplifier(c)\n",
    "A2 = Amplifier(k)\n",
    "A3 = Amplifier(-1/m)\n",
    "P1 = Adder()\n",
    "Sc = Scope(labels=[\"velocity\", \"position\"])\n",
    "\n",
    "blocks = [I1, I2, A1, A2, A3, P1, Sc]"
   ]
  },
  {
   "cell_type": "raw",
   "metadata": {
    "raw_mimetype": "text/restructuredtext"
   },
   "source": [
    "Afterwards, the connections between the blocks can be defined. The first argument of the :class:`.Connection` class is the source block and its port (``Sc[1]`` would be port ``1`` of the instance of the :class:`.Scope` block).\n"
   ]
  },
  {
   "cell_type": "code",
   "execution_count": null,
   "metadata": {},
   "outputs": [],
   "source": [
    "# The connections between the blocks\n",
    "connections = [\n",
    "    Connection(I1, I2, A1, Sc), \n",
    "    Connection(I2, A2, Sc[1]),\n",
    "    Connection(A1, P1), \n",
    "    Connection(A2, P1[1]), \n",
    "    Connection(P1, A3),\n",
    "    Connection(A3, I1)\n",
    "]"
   ]
  },
  {
   "cell_type": "raw",
   "metadata": {
    "raw_mimetype": "text/restructuredtext"
   },
   "source": [
    "Finally we can instantiate the ``Simulation`` with the blocks, connections and some additional parameters such as the timestep. In this case, no special ODE solver is specified, so PathSim uses the default :class:`.SSPRK22` integrator which is a fixed step 2nd order explicit Runge-Kutta method. A good starting point for non stiff linear systems like this.\n"
   ]
  },
  {
   "cell_type": "code",
   "execution_count": null,
   "metadata": {},
   "outputs": [],
   "source": [
    "# Initialize simulation with the blocks, connections, timestep\n",
    "Sim = Simulation(blocks, connections, dt=0.01, log=True)"
   ]
  },
  {
   "cell_type": "markdown",
   "metadata": {},
   "source": [
    "Then we can run the simulation for some duration:"
   ]
  },
  {
   "cell_type": "code",
   "execution_count": null,
   "metadata": {},
   "outputs": [],
   "source": [
    "# Run the simulation for 25 seconds\n",
    "Sim.run(duration=25)"
   ]
  },
  {
   "cell_type": "raw",
   "metadata": {
    "raw_mimetype": "text/restructuredtext"
   },
   "source": [
    "Due to the object oriented and decentralized nature of PathSim, the :class:`.Scope` block holds the recorded time series data from the simulation internally. It can be plotted directly in an external matplotlib window using the ``plot`` method:\n"
   ]
  },
  {
   "cell_type": "code",
   "execution_count": null,
   "metadata": {},
   "outputs": [],
   "source": "# Plot the results from the scope\nfig, ax = Sc.plot()\nplt.show()"
  },
  {
   "cell_type": "markdown",
   "metadata": {},
   "source": [
    "which looks like an exponentially decaying sinusoid."
   ]
  }
 ],
 "metadata": {
  "kernelspec": {
   "display_name": "Python 3",
   "language": "python",
   "name": "python3"
  },
  "language_info": {
   "codemirror_mode": {
    "name": "ipython",
    "version": 3
   },
   "file_extension": ".py",
   "mimetype": "text/x-python",
   "name": "python",
   "nbconvert_exporter": "python",
   "pygments_lexer": "ipython3",
   "version": "3.10.0"
  }
 },
 "nbformat": 4,
 "nbformat_minor": 4
}