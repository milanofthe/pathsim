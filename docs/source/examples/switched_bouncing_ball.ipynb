{
 "cells": [
  {
   "cell_type": "markdown",
   "metadata": {},
   "source": [
    "# Switched Bouncing Ball\n",
    "\n",
    "This example demonstrates advanced event handling with multiple simultaneous events, event switching, and conditional event logic. The bouncing ball bounces on a table first, and then drops to the floor and continues to bounce there.\n",
    "\n",
    "You can also find this example as a single file in the [GitHub repository](https://github.com/milanofthe/pathsim/blob/master/examples/examples_event/example_bouncingball_switched.py)."
   ]
  },
  {
   "cell_type": "raw",
   "metadata": {
    "raw_mimetype": "text/restructuredtext"
   },
   "source": [
    "This example showcases:\n",
    "\n",
    "- Multiple :class:`.ZeroCrossing` events tracking different conditions\n",
    "- :class:`.Condition` events for conditional logic (count-based switching)\n",
    "- Dynamic event activation/deactivation using ``on()``/``off()`` methods\n",
    "- Nonlinear friction forces modeled with the :class:`.Function` block"
   ]
  },
  {
   "cell_type": "raw",
   "metadata": {
    "raw_mimetype": "text/restructuredtext"
   },
   "source": [
    "First let's import the :class:`.Simulation` and :class:`.Connection` classes along with the required blocks and event managers:"
   ]
  },
  {
   "cell_type": "code",
   "execution_count": 2,
   "metadata": {},
   "outputs": [],
   "source": [
    "import numpy as np\n",
    "import matplotlib.pyplot as plt\n",
    "\n",
    "# Apply PathSim docs matplotlib style\n",
    "plt.style.use('../pathsim_docs.mplstyle')\n",
    "\n",
    "from pathsim import Simulation, Connection\n",
    "from pathsim.blocks import Integrator, Constant, Function, Adder, Scope\n",
    "from pathsim.solvers import RKBS32\n",
    "from pathsim.events import ZeroCrossing, Condition"
   ]
  },
  {
   "cell_type": "markdown",
   "metadata": {},
   "source": [
    "## System Dynamics\n",
    "\n",
    "The ball experiences:\n",
    "1. Gravitational acceleration downward\n",
    "2. Quadratic air resistance (Newton's drag law)\n",
    "3. Elastic bounces at $x = 0$ (floor) and $x = -5$ (ceiling)\n",
    "\n",
    "The equation of motion is:\n",
    "\n",
    "$$\\ddot{x} = -g - k \\cdot \\text{sign}(v) \\cdot v^2$$\n",
    "\n",
    "where $k$ is the mass-normalized friction coefficient."
   ]
  },
  {
   "cell_type": "code",
   "execution_count": 5,
   "metadata": {},
   "outputs": [],
   "source": [
    "# Simulation timestep\n",
    "dt = 0.01\n",
    "\n",
    "# Gravitational acceleration\n",
    "g = 9.81\n",
    "\n",
    "# Elasticity of bounce\n",
    "b = 0.95\n",
    "\n",
    "# Mass normalized friction coefficient\n",
    "k = 0.2\n",
    "\n",
    "# Initial values\n",
    "x0, v0 = 1, 10"
   ]
  },
  {
   "cell_type": "markdown",
   "metadata": {},
   "source": [
    "## Block Diagram Construction"
   ]
  },
  {
   "cell_type": "code",
   "execution_count": 8,
   "metadata": {},
   "outputs": [],
   "source": [
    "# Newton friction (quadratic drag)\n",
    "def fric(v):\n",
    "    return -k * np.sign(v) * v**2\n",
    "\n",
    "# Blocks that define the system\n",
    "Ix = Integrator(x0)     # v -> x\n",
    "Iv = Integrator(v0)     # a -> v\n",
    "Fr = Function(fric)     # newton friction\n",
    "Ad = Adder()\n",
    "Cn = Constant(-g)       # gravitational acceleration\n",
    "Sc = Scope(labels=[\"x\", \"v\"])\n",
    "\n",
    "blocks = [Ix, Iv, Fr, Ad, Cn, Sc]\n",
    "\n",
    "# The connections between the blocks\n",
    "connections = [\n",
    "    Connection(Cn, Ad[0]),\n",
    "    Connection(Fr, Ad[1]),\n",
    "    Connection(Ad, Iv),\n",
    "    Connection(Iv, Ix, Fr),\n",
    "    Connection(Ix, Sc[0])\n",
    "]"
   ]
  },
  {
   "cell_type": "raw",
   "metadata": {
    "raw_mimetype": "text/restructuredtext"
   },
   "source": [
    "Event Managers\n",
    "--------------\n",
    "\n",
    "We define three events:\n",
    "\n",
    "1. **E1**: Table bounce at $x = 0$ (:class:`.ZeroCrossing`)\n",
    "2. **E2**: Floor bounce at $x = -5$ (:class:`.ZeroCrossing`)\n",
    "3. **E3**: Conditional switch after 10 floor bounces (:class:`.Condition`)"
   ]
  },
  {
   "cell_type": "code",
   "execution_count": 10,
   "metadata": {},
   "outputs": [],
   "source": [
    "# Event 1: Table bounce (x = 0)\n",
    "def func_evt_1(t):\n",
    "    *_, x = Ix()\n",
    "    return x\n",
    "\n",
    "def func_act_1(t):\n",
    "    *_, x = Ix()\n",
    "    *_, v = Iv()\n",
    "    Ix.engine.set(abs(x))\n",
    "    Iv.engine.set(-b*v)\n",
    "\n",
    "E1 = ZeroCrossing(\n",
    "    func_evt=func_evt_1,\n",
    "    func_act=func_act_1,\n",
    "    tolerance=1e-4\n",
    ")"
   ]
  },
  {
   "cell_type": "code",
   "execution_count": 12,
   "metadata": {},
   "outputs": [],
   "source": [
    "# Event 2: Floor bounce (x = -5)\n",
    "def func_evt_2(t):\n",
    "    *_, x = Ix()\n",
    "    return x + 5\n",
    "\n",
    "def func_act_2(t):\n",
    "    *_, x = Ix()\n",
    "    *_, v = Iv()\n",
    "    Ix.engine.set(abs(x + 5) - 5)\n",
    "    Iv.engine.set(-b*v)\n",
    "\n",
    "E2 = ZeroCrossing(\n",
    "    func_evt=func_evt_2,\n",
    "    func_act=func_act_2,\n",
    "    tolerance=1e-4\n",
    ")"
   ]
  },
  {
   "cell_type": "raw",
   "metadata": {
    "raw_mimetype": "text/restructuredtext"
   },
   "source": [
    "The third event uses the :class:`.Condition` event type, which triggers based on a boolean condition rather than a zero crossing. Here it counts table bounces and disables detection after 10 occurrences:"
   ]
  },
  {
   "cell_type": "code",
   "execution_count": 14,
   "metadata": {},
   "outputs": [],
   "source": [
    "# Event 3: Conditional switch after 10 table bounces\n",
    "E3 = Condition(\n",
    "    func_evt=lambda *_: len(E1) >= 10,        # number of events 'E1' (bounces)\n",
    "    func_act=lambda *_: [E1.off(), E3.off()]  # callback switches event tracking\n",
    ")"
   ]
  },
  {
   "cell_type": "markdown",
   "metadata": {},
   "source": [
    "The condition event checks if the table bounce event `E1` has occurred 10 times. When this happens, it:\n",
    "1. Disables table bounce tracking with `E1.off()`\n",
    "2. Disables itself with `E3.off()`\n",
    "\n",
    "After this point, only the flfoor bounce `E2` remains active."
   ]
  },
  {
   "cell_type": "raw",
   "metadata": {
    "raw_mimetype": "text/restructuredtext"
   },
   "source": [
    "We initialize the simulation with the adaptive timestep :class:`.RKBS32` solver (Runge-Kutta-Bogacki-Shampine 3(2) method) to enable backtracking for the event system to resolve event locations in time:"
   ]
  },
  {
   "cell_type": "code",
   "execution_count": 17,
   "metadata": {},
   "outputs": [
    {
     "name": "stderr",
     "output_type": "stream",
     "text": [
      "2025-10-10 14:18:35,932 - INFO - LOGGING (log: True)\n",
      "2025-10-10 14:18:35,932 - INFO - BLOCK (type: Integrator, dynamic: True, events: 0)\n",
      "2025-10-10 14:18:35,933 - INFO - BLOCK (type: Integrator, dynamic: True, events: 0)\n",
      "2025-10-10 14:18:35,933 - INFO - BLOCK (type: Function, dynamic: False, events: 0)\n",
      "2025-10-10 14:18:35,934 - INFO - BLOCK (type: Adder, dynamic: False, events: 0)\n",
      "2025-10-10 14:18:35,934 - INFO - BLOCK (type: Constant, dynamic: False, events: 0)\n",
      "2025-10-10 14:18:35,934 - INFO - BLOCK (type: Scope, dynamic: False, events: 0)\n",
      "2025-10-10 14:18:35,935 - INFO - GRAPH (size: 6, alg. depth: 3, loop depth: 0, runtime: 0.080ms)\n"
     ]
    }
   ],
   "source": [
    "# Initialize simulation\n",
    "Sim = Simulation(\n",
    "    blocks,\n",
    "    connections,\n",
    "    events=[E1, E2, E3],\n",
    "    dt=dt,\n",
    "    log=True,\n",
    "    Solver=RKBS32,\n",
    "    tolerance_lte_abs=1e-6,\n",
    "    tolerance_lte_rel=1e-4\n",
    ")"
   ]
  },
  {
   "cell_type": "markdown",
   "metadata": {},
   "source": [
    "Now let's run the simulation:"
   ]
  },
  {
   "cell_type": "code",
   "execution_count": 20,
   "metadata": {},
   "outputs": [
    {
     "name": "stderr",
     "output_type": "stream",
     "text": [
      "2025-10-10 14:18:38,426 - INFO - STARTING -> TRANSIENT (Duration: 15.00s)\n",
      "2025-10-10 14:18:38,426 - INFO - TRANSIENT:   0% | elapsed: 00:00:00 (eta: --:--:--) | 0 steps (N/A steps/s)\n",
      "2025-10-10 14:18:38,444 - INFO - TRANSIENT:  20% | elapsed: 00:00:00 (eta: --:--:--) | 115 steps (6148.9 steps/s)\n",
      "2025-10-10 14:18:38,475 - INFO - TRANSIENT:  40% | elapsed: 00:00:00 (eta: --:--:--) | 314 steps (6594.1 steps/s)\n",
      "2025-10-10 14:18:38,496 - INFO - TRANSIENT:  60% | elapsed: 00:00:00 (eta: --:--:--) | 467 steps (7231.8 steps/s)\n",
      "2025-10-10 14:18:38,516 - INFO - TRANSIENT:  80% | elapsed: 00:00:00 (eta: --:--:--) | 615 steps (7508.7 steps/s)\n",
      "2025-10-10 14:18:38,548 - INFO - TRANSIENT: 100% | elapsed: 00:00:00 (eta: 00:00:00) | 862 steps (7666.2 steps/s)\n",
      "2025-10-10 14:18:38,548 - INFO - TRANSIENT: 100% | elapsed: 00:00:00 (eta: 00:00:00) | 862 steps (7013.3 avg steps/s)\n",
      "2025-10-10 14:18:38,549 - INFO - FINISHED -> TRANSIENT (total steps: 862, successful: 595, runtime: 122.91 ms)\n"
     ]
    },
    {
     "data": {
      "text/plain": [
       "{'total_steps': 862, 'successful_steps': 595, 'runtime_ms': 122.907099997974}"
      ]
     },
     "execution_count": 20,
     "metadata": {},
     "output_type": "execute_result"
    }
   ],
   "source": [
    "# Run the simulation\n",
    "Sim.run(15)"
   ]
  },
  {
   "cell_type": "markdown",
   "metadata": {},
   "source": [
    "## Results\n",
    "\n",
    "Let's plot the results with all three event types marked differently:"
   ]
  },
  {
   "cell_type": "code",
   "execution_count": 23,
   "metadata": {},
   "outputs": [
    {
     "data": {
      "image/png": "[encoded data removed]",
      "text/plain": [
       "<Figure size 960x480 with 1 Axes>"
      ]
     },
     "metadata": {
      "needs_background": "light"
     },
     "output_type": "display_data"
    }
   ],
   "source": [
    "# Plot the recordings from the scope\n",
    "time, [x] = Sc.read()\n",
    "\n",
    "fig, ax = plt.subplots(figsize=(8, 5))\n",
    "\n",
    "ax.plot(time, x)\n",
    "\n",
    "# Add detected events to scope plot with different styles\n",
    "for t in E1:\n",
    "    ax.axvline(t, ls=\"--\", c=\"gray\", alpha=0.5, label=\"Floor bounce\" if t == list(E1)[0] else \"\")\n",
    "    \n",
    "for t in E2:\n",
    "    ax.axvline(t, ls=\"-.\", c=\"gray\", alpha=0.5, label=\"Ceiling bounce\" if t == list(E2)[0] else \"\")\n",
    "    \n",
    "for t in E3:\n",
    "    ax.axvline(t, ls=\"-\", c=\"gray\", lw=2, alpha=0.7, label=\"Switch event\")\n",
    "\n",
    "ax.legend()\n",
    "plt.show()"
   ]
  },
  {
   "cell_type": "markdown",
   "metadata": {},
   "source": [
    "## Analysis\n",
    "\n",
    "The plot reveals several interesting behaviors:\n",
    "\n",
    "1. **Initial phase**: The ball bounces on the table floor ($x = 0$, dashed lines)\n",
    "2. **Switch event**: After 10 table bounces, the conditional event triggers (solid vertical line)\n",
    "3. **Post-switch phase**: Table bounces are no longer detected, so the ball passes through the table and falls to the floor where it continues to bounce\n",
    "4. **Energy dissipation**: Due to air resistance, the amplitude decreases over time\n",
    "\n",
    "This demonstrates how event logic can dynamically change system behavior during simulation, useful for:\n",
    "- Mode switching in control systems\n",
    "- Modeling wear or failure after a certain number of cycles\n",
    "- Implementing complex state machines"
   ]
  },
  {
   "cell_type": "markdown",
   "metadata": {},
   "source": [
    "## Event Counts\n",
    "\n",
    "We can also check how many times each event occurred:"
   ]
  },
  {
   "cell_type": "code",
   "execution_count": 30,
   "metadata": {},
   "outputs": [
    {
     "name": "stdout",
     "output_type": "stream",
     "text": [
      "Floor bounces (E1): 10\n",
      "Ceiling bounces (E2): 15\n",
      "Switch events (E3): 1\n"
     ]
    }
   ],
   "source": [
    "print(f\"Table bounces (E1): {len(E1)}\")\n",
    "print(f\"Floor bounces (E2): {len(E2)}\")\n",
    "print(f\"Switch events (E3): {len(E3)}\")"
   ]
  },
  {
   "cell_type": "markdown",
   "metadata": {},
   "source": [
    "As expected, `E1` should have exactly 10 events (the trigger condition), `E3` should have 1 event (when it disabled itself), and `E2` will vary depending on the system dynamics."
   ]
  }
 ],
 "metadata": {
  "kernelspec": {
   "display_name": "Python [conda env:base] *",
   "language": "python",
   "name": "conda-base-py"
  },
  "language_info": {
   "codemirror_mode": {
    "name": "ipython",
    "version": 3
   },
   "file_extension": ".py",
   "mimetype": "text/x-python",
   "name": "python",
   "nbconvert_exporter": "python",
   "pygments_lexer": "ipython3",
   "version": "3.12.7"
  }
 },
 "nbformat": 4,
 "nbformat_minor": 4
}
