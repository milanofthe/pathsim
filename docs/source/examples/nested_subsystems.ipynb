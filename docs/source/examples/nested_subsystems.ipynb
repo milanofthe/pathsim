{
 "cells": [
  {
   "cell_type": "raw",
   "metadata": {
    "editable": true,
    "raw_mimetype": "text/restructuredtext",
    "slideshow": {
     "slide_type": ""
    },
    "tags": []
   },
   "source": [
    ".. _ref-vanderpol-nested-subsystem:"
   ]
  },
  {
   "cell_type": "markdown",
   "metadata": {
    "editable": true,
    "slideshow": {
     "slide_type": ""
    },
    "tags": []
   },
   "source": [
    "# Nested Subsystems\n",
    "\n",
    "You can also find this example as a single file in the [GitHub repository](https://github.com/milanofthe/pathsim/blob/master/examples/example_nested_subsystems.py).This example demonstrates PathSim's **hierarchical modeling** capabilities using nested subsystems. We'll build a complex Van der Pol oscillator by composing simpler subsystems, showing how to organize large models in a modular way.\n",
    "\n",
    "## Why Use Subsystems?\n",
    "\n",
    "Subsystems allow you to:\n",
    "- **Organize** complex systems into logical modules\n",
    "- **Reuse** components across different models\n",
    "- **Abstract** implementation details\n",
    "- **Scale** to large systems with many components\n",
    "- **Debug** and test individual modules separately\n",
    "\n",
    "## The Van der Pol Oscillator Revisited\n",
    "\n",
    "The stiff Van der Pol oscillator is described by:\n",
    "\n",
    "$$\\frac{dx_1}{dt} = x_2$$\n",
    "$$\\frac{dx_2}{dt} = \\mu(1 - x_1^2)x_2 - x_1$$\n",
    "\n",
    "With $\\mu = 1000$ (very stiff!)\n",
    "\n",
    "## Hierarchical Structure\n"
   ]
  },
  {
   "cell_type": "raw",
   "metadata": {
    "editable": true,
    "raw_mimetype": "text/restructuredtext",
    "slideshow": {
     "slide_type": ""
    },
    "tags": []
   },
   "source": [
    "This example demonstrates hierarchical modeling using :class:`.Subsystem` and :class:`.Interface` blocks for modular system design."
   ]
  },
  {
   "cell_type": "code",
   "execution_count": 52,
   "metadata": {
    "editable": true,
    "slideshow": {
     "slide_type": ""
    },
    "tags": []
   },
   "outputs": [],
   "source": [
    "import numpy as np\n",
    "import matplotlib.pyplot as plt\n",
    "\n",
    "# Apply PathSim docs matplotlib style for consistent, theme-friendly figures\n",
    "plt.style.use('../pathsim_docs.mplstyle')\n",
    "\n",
    "from pathsim import Simulation, Connection, Interface, Subsystem\n",
    "from pathsim.blocks import Integrator, Scope, Function, Multiplier, Adder, Amplifier, Constant\n",
    "from pathsim.solvers import ESDIRK43"
   ]
  },
  {
   "cell_type": "markdown",
   "metadata": {},
   "source": [
    "## System Parameters"
   ]
  },
  {
   "cell_type": "code",
   "execution_count": 55,
   "metadata": {},
   "outputs": [],
   "source": [
    "# Initial conditions\n",
    "x1_0 = 2.0\n",
    "x2_0 = 0.0\n",
    "\n",
    "# Van der Pol parameter (high stiffness!)\n",
    "mu = 1000\n",
    "\n",
    "# Simulation timestep\n",
    "dt = 0.01"
   ]
  },
  {
   "cell_type": "markdown",
   "metadata": {},
   "source": [
    "## Level 1: ODE Function Subsystem\n",
    "\n",
    "First, we create a subsystem that computes $f(x_1, x_2) = \\mu(1 - x_1^2)x_2 - x_1$\n",
    "\n",
    "This subsystem:\n",
    "- Takes **two inputs**: $x_1$ and $x_2$\n",
    "- Returns **one output**: the computed derivative\n",
    "- Is **self-contained** and reusable\n",
    "\n",
    "The `Interface` block defines the subsystem's inputs and outputs."
   ]
  },
  {
   "cell_type": "code",
   "execution_count": 58,
   "metadata": {},
   "outputs": [],
   "source": [
    "# Interface for the ODE function subsystem\n",
    "# Input 0: x1\n",
    "# Input 1: x2  \n",
    "# Output: μ(1 - x1²)x2 - x1\n",
    "\n",
    "In = Interface()\n",
    "M1 = Multiplier()         # For x2 * (1 - x1²)\n",
    "C1 = Constant(1)          # The constant 1\n",
    "A1 = Amplifier(mu)        # Multiply by μ\n",
    "A2 = Amplifier(-1)        # Negate x1\n",
    "A3 = Amplifier(-1)        # Negate x1²\n",
    "P1 = Adder()              # Sum: μ(1 - x1²)x2 - x1\n",
    "P2 = Adder()              # Compute: 1 - x1²\n",
    "F1 = Function(lambda x: x**2)  # Square x1\n",
    "\n",
    "fn_blocks = [In, M1, C1, A1, A2, A3, P1, P2, F1]\n",
    "\n",
    "fn_connections = [\n",
    "    Connection(In[0], A2, F1),     # x1 → -x1 and x1²\n",
    "    Connection(In[1], M1[0]),      # x2 → multiplier\n",
    "    Connection(F1, A3),            # x1² → -x1²\n",
    "    Connection(A3, P2[0]),         # -x1² to adder\n",
    "    Connection(C1, P2[1]),         # 1 to adder\n",
    "    Connection(P2, M1[1]),         # (1 - x1²) to multiplier\n",
    "    Connection(M1, A1),            # x2(1 - x1²) → multiply by μ\n",
    "    Connection(A1, P1[0]),         # μ(...) to final adder\n",
    "    Connection(A2, P1[1]),         # -x1 to final adder\n",
    "    Connection(P1, In)             # Result to output\n",
    "]\n",
    "\n",
    "# Create the ODE function subsystem\n",
    "Fn = Subsystem(fn_blocks, fn_connections)"
   ]
  },
  {
   "cell_type": "markdown",
   "metadata": {},
   "source": [
    "## Level 2: Van der Pol Subsystem\n",
    "\n",
    "Now we create a subsystem that contains:\n",
    "- Two **integrators** (for $x_1$ and $x_2$)\n",
    "- The **ODE function subsystem** we just created\n",
    "\n",
    "This implements the complete Van der Pol ODE system:"
   ]
  },
  {
   "cell_type": "code",
   "execution_count": 61,
   "metadata": {},
   "outputs": [],
   "source": [
    "# Interface for VDP subsystem (no inputs, two outputs)\n",
    "If = Interface()\n",
    "I1 = Integrator(x1_0)  # Integrator for x1\n",
    "I2 = Integrator(x2_0)  # Integrator for x2\n",
    "\n",
    "vdp_blocks = [If, I1, I2, Fn]\n",
    "\n",
    "vdp_connections = [\n",
    "    Connection(I2, I1, Fn[1], If[1]),  # x2 → I1, Fn, and output\n",
    "    Connection(I1, Fn, If),            # x1 → Fn and output[0]\n",
    "    Connection(Fn, I2)                 # dx2/dt → I2\n",
    "]\n",
    "\n",
    "# Create the Van der Pol subsystem\n",
    "VDP = Subsystem(vdp_blocks, vdp_connections)"
   ]
  },
  {
   "cell_type": "markdown",
   "metadata": {},
   "source": [
    "## Level 3: Top-Level System\n",
    "\n",
    "Finally, we create the top-level system that contains:\n",
    "- The **VDP subsystem**\n",
    "- A **Scope** for visualization\n",
    "\n",
    "At this level, the VDP subsystem looks like a simple block with two outputs, hiding all its internal complexity!"
   ]
  },
  {
   "cell_type": "code",
   "execution_count": 64,
   "metadata": {
    "editable": true,
    "slideshow": {
     "slide_type": ""
    },
    "tags": []
   },
   "outputs": [],
   "source": [
    "# Top-level system\n",
    "Sco = Scope(labels=[r\"$x_1(t)$\", r\"$x_2(t)$\"])\n",
    "\n",
    "blocks = [VDP, Sco]\n",
    "\n",
    "connections = [\n",
    "    Connection(VDP, Sco),       # x1 to scope\n",
    "    # Connection(VDP[1], Sco[1])  # x2 to scope\n",
    "]"
   ]
  },
  {
   "cell_type": "markdown",
   "metadata": {},
   "source": [
    "## Simulation Setup\n"
   ]
  },
  {
   "cell_type": "raw",
   "metadata": {
    "editable": true,
    "raw_mimetype": "text/restructuredtext",
    "slideshow": {
     "slide_type": ""
    },
    "tags": []
   },
   "source": [
    "We use a stiff solver (:class:`.ESDIRK43`) because :math:`\\mu = 1000makes this a very stiff system."
   ]
  },
  {
   "cell_type": "code",
   "execution_count": 67,
   "metadata": {
    "editable": true,
    "slideshow": {
     "slide_type": ""
    },
    "tags": []
   },
   "outputs": [
    {
     "name": "stderr",
     "output_type": "stream",
     "text": [
      "2025-10-09 20:48:39,255 - INFO - LOGGING (log: True)\n",
      "2025-10-09 20:48:39,256 - INFO - BLOCK (type: Subsystem, dynamic: True, events: 0)\n",
      "2025-10-09 20:48:39,256 - INFO - BLOCK (type: Scope, dynamic: False, events: 0)\n",
      "2025-10-09 20:48:39,256 - INFO - GRAPH (size: 2, alg. depth: 1, loop depth: 0, runtime: 0.040ms)\n",
      "2025-10-09 20:48:39,257 - INFO - STARTING -> TRANSIENT (Duration: 2000.00s)\n",
      "2025-10-09 20:48:39,257 - INFO - TRANSIENT:   0% | elapsed: 00:00:00 (eta: --:--:--) | 0 steps (N/A steps/s)\n",
      "2025-10-09 20:48:39,568 - INFO - TRANSIENT:  27% | elapsed: 00:00:00 (eta: 00:00:00) | 44 steps (142.0 steps/s)\n",
      "2025-10-09 20:48:39,819 - INFO - TRANSIENT:  40% | elapsed: 00:00:00 (eta: 00:00:00) | 58 steps (55.8 steps/s)\n",
      "2025-10-09 20:48:40,575 - INFO - TRANSIENT:  68% | elapsed: 00:00:01 (eta: 00:00:00) | 204 steps (193.1 steps/s)\n",
      "2025-10-09 20:48:40,799 - INFO - TRANSIENT:  80% | elapsed: 00:00:01 (eta: 00:00:00) | 216 steps (53.5 steps/s)\n",
      "2025-10-09 20:48:41,603 - INFO - TRANSIENT: 100% | elapsed: 00:00:02 (eta: 00:00:00) | 362 steps (181.8 steps/s)\n",
      "2025-10-09 20:48:41,603 - INFO - TRANSIENT: 100% | elapsed: 00:00:02 (eta: 00:00:00) | 362 steps (154.3 avg steps/s)\n",
      "2025-10-09 20:48:41,604 - INFO - FINISHED -> TRANSIENT (total steps: 362, successful: 252, runtime: 2345.42 ms)\n"
     ]
    },
    {
     "data": {
      "text/plain": [
       "{'total_steps': 362, 'successful_steps': 252, 'runtime_ms': 2345.4215999227017}"
      ]
     },
     "execution_count": 67,
     "metadata": {},
     "output_type": "execute_result"
    }
   ],
   "source": [
    "# Initialize simulation\n",
    "Sim = Simulation(\n",
    "    blocks, \n",
    "    connections, \n",
    "    dt=dt, \n",
    "    log=True, \n",
    "    Solver=ESDIRK43, \n",
    "    tolerance_lte_abs=1e-6, \n",
    "    tolerance_lte_rel=1e-4,\n",
    "    tolerance_fpi=1e-7\n",
    ")\n",
    "\n",
    "# Run simulation (note: 2*mu for long-term dynamics)\n",
    "Sim.run(2*mu)"
   ]
  },
  {
   "cell_type": "markdown",
   "metadata": {},
   "source": [
    "## Results: Time Series\n",
    "\n",
    "The Van der Pol oscillator with $\\mu = 1000$ exhibits **relaxation oscillations** - fast transitions between slow phases. This requires a stiff solver to handle efficiently."
   ]
  },
  {
   "cell_type": "code",
   "execution_count": 70,
   "metadata": {},
   "outputs": [
    {
     "data": {
      "image/png": "[encoded data removed]",
      "text/plain": [
       "<Figure size 960x480 with 1 Axes>"
      ]
     },
     "metadata": {
      "needs_background": "light"
     },
     "output_type": "display_data"
    }
   ],
   "source": [
    "Sco.plot(\".-\", lw=1.5)\n",
    "plt.show()"
   ]
  },
  {
   "cell_type": "markdown",
   "metadata": {},
   "source": [
    "## Subsystem Benefits Demonstrated\n",
    "\n",
    "This example shows several advantages of subsystems:\n",
    "\n",
    "1. **Modularity**: The ODE function is completely separate from the integration\n",
    "2. **Reusability**: The `Fn` subsystem could be used in other models\n",
    "3. **Clarity**: The top level is clean - just VDP and Scope\n",
    "4. **Debugging**: Each subsystem can be tested independently\n",
    "5. **Abstraction**: Inner complexity is hidden from higher levels\n",
    "\n",
    "## Comparison with ODE Block\n",
    "\n",
    "Compare this hierarchical approach with using a single `ODE` block:\n",
    "\n",
    "```python\n",
    "# Alternative: Using ODE block (simpler but less modular)\n",
    "def vdp_ode(x, u, t):\n",
    "    return np.array([x[1], mu*(1 - x[0]**2)*x[1] - x[0]])\n",
    "\n",
    "VDP = ODE(vdp_ode, np.array([x1_0, x2_0]))\n",
    "```\n",
    "\n",
    "Both approaches work! Use subsystems when:\n",
    "- You need modularity and reusability\n",
    "- The system is complex with many components\n",
    "- You want to visualize internal signals\n",
    "- You're building block diagram models"
   ]
  }
 ],
 "metadata": {
  "kernelspec": {
   "display_name": "Python [conda env:base] *",
   "language": "python",
   "name": "conda-base-py"
  },
  "language_info": {
   "codemirror_mode": {
    "name": "ipython",
    "version": 3
   },
   "file_extension": ".py",
   "mimetype": "text/x-python",
   "name": "python",
   "nbconvert_exporter": "python",
   "pygments_lexer": "ipython3",
   "version": "3.12.7"
  }
 },
 "nbformat": 4,
 "nbformat_minor": 4
}
