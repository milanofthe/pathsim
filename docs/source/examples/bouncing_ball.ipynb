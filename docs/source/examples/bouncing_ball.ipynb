{
 "cells": [
  {
   "cell_type": "raw",
   "metadata": {
    "raw_mimetype": "text/restructuredtext"
   },
   "source": [
    ".. _ref-bouncing-ball:\n"
   ]
  },
  {
   "cell_type": "markdown",
   "metadata": {},
   "source": [
    "# Bouncing Ball\n",
    "\n",
    "This example demonstrates PathSim's event handling system. The classical example here is the bouncing ball. The ball accelerates downward due to gravity and once it hits the floor, it bounces back. The dynamics of this system are discontinuous due to the jump in velocity (sign change) exactly at the bounce. This is called a discrete event, specifically a zero crossing event.\n",
    "\n",
    "You can also find this example as a single file in the [GitHub repository](https://github.com/milanofthe/pathsim/blob/master/examples/examples_event/example_bouncingball.py)."
   ]
  },
  {
   "cell_type": "raw",
   "metadata": {
    "raw_mimetype": "text/restructuredtext"
   },
   "source": [
    ".. image:: figures/figures_g/bouncing_ball_g.png\n",
    "   :width: 700\n",
    "   :align: center\n",
    "   :alt: schematic of a bouncing ball\n"
   ]
  },
  {
   "cell_type": "markdown",
   "metadata": {},
   "source": [
    "Systems like this require the location and resolution of discrete events within the timestep and are not easily solved with standard numerical ODE solvers. PathSim implements an event management system that can track the system state and locate and resolve specified events.\n",
    "\n",
    "We can translate the dynamics of the system into a block diagram. Note the event manager that watches the state of the integrator for the position and can act on both integrator states:"
   ]
  },
  {
   "cell_type": "raw",
   "metadata": {
    "raw_mimetype": "text/restructuredtext"
   },
   "source": [
    ".. image:: figures/figures_g/bouncing_ball_blockdiagram_g.png\n",
    "   :width: 700\n",
    "   :align: center\n",
    "   :alt: block diagram of the bouncing ball system\n"
   ]
  },
  {
   "cell_type": "markdown",
   "metadata": {},
   "source": [
    "## Import and Setup\n",
    "\n",
    "To simulate the bouncing ball, let's start by importing the required blocks from the block library. In this case integrators and a constant for gravity."
   ]
  },
  {
   "cell_type": "raw",
   "metadata": {
    "raw_mimetype": "text/restructuredtext"
   },
   "source": [
    "And of course the :class:`.ZeroCrossing` event manager from the event library.\n"
   ]
  },
  {
   "cell_type": "code",
   "execution_count": null,
   "metadata": {},
   "outputs": [],
   "source": [
    "import numpy as np\n",
    "import matplotlib.pyplot as plt\n",
    "\n",
    "# Apply PathSim docs matplotlib style for consistent, theme-friendly figures\n",
    "plt.style.use('../pathsim_docs.mplstyle')\n",
    "\n",
    "from pathsim import Simulation, Connection\n",
    "from pathsim.blocks import Integrator, Constant, Scope\n",
    "from pathsim.events import ZeroCrossing"
   ]
  },
  {
   "cell_type": "markdown",
   "metadata": {},
   "source": [
    "## System Parameters\n",
    "\n",
    "Then define the system parameters:"
   ]
  },
  {
   "cell_type": "code",
   "execution_count": null,
   "metadata": {},
   "outputs": [],
   "source": [
    "# Gravitational acceleration\n",
    "g = 9.81\n",
    "\n",
    "# Elasticity of bounce (energy loss factor)\n",
    "b = 0.9\n",
    "\n",
    "# Initial conditions (position and velocity)\n",
    "x0, v0 = 1, 5"
   ]
  },
  {
   "cell_type": "markdown",
   "metadata": {},
   "source": [
    "## System Definition\n",
    "\n",
    "Now we can construct the system by instantiating the blocks we need (from the block diagram above) with their corresponding parameters and collect them together in a list:"
   ]
  },
  {
   "cell_type": "code",
   "execution_count": null,
   "metadata": {},
   "outputs": [],
   "source": [
    "# Blocks that define the system\n",
    "Ix = Integrator(x0)     # v -> x\n",
    "Iv = Integrator(v0)     # a -> v \n",
    "Cn = Constant(-g)       # gravitational acceleration\n",
    "Sc = Scope(labels=[\"x\", \"v\"])\n",
    "\n",
    "blocks = [Ix, Iv, Cn, Sc]\n",
    "\n",
    "# The connections between the blocks\n",
    "connections = [\n",
    "    Connection(Cn, Iv),\n",
    "    Connection(Iv, Ix),\n",
    "    Connection(Ix, Sc[0])\n",
    "]"
   ]
  },
  {
   "cell_type": "markdown",
   "metadata": {},
   "source": [
    "## Event Handling\n",
    "\n",
    "Now the continuous system dynamics are defined. Without any additions, the ball would just accelerate indefinitely even past the floor. To implement the bounce, we need to define a zero crossing event tracker that watches the position and can detect when it changes its sign.\n",
    "\n",
    "In PathSim events are defined by their type and an event function that is evaluated to determine whether an event has occurred and how close to the timestep it is and an action function that gets called to resolve the event once it is located to sufficient accuracy.\n",
    "\n",
    "Here the event function just watches the state of the integrator `Ix`, i.e. the position and if it crosses the origin, the action function flips the sign of the velocity, i.e. the state of integrator `Iv` multiplied by the elasticity constant (loses some energy at the bounce):"
   ]
  },
  {
   "cell_type": "code",
   "execution_count": null,
   "metadata": {},
   "outputs": [],
   "source": [
    "# Event function for zero crossing detection\n",
    "def func_evt(t):\n",
    "    *_, x = Ix()  # Get block outputs and states\n",
    "    return x\n",
    "\n",
    "# Action function for state transformation\n",
    "def func_act(t):\n",
    "    *_, x = Ix()\n",
    "    *_, v = Iv()\n",
    "    Ix.engine.set(abs(x))\n",
    "    Iv.engine.set(-b*v)\n",
    "\n",
    "# Events (zero crossing)\n",
    "E1 = ZeroCrossing(\n",
    "    func_evt=func_evt,                 \n",
    "    func_act=func_act, \n",
    "    tolerance=1e-4\n",
    ")\n",
    "\n",
    "events = [E1]"
   ]
  },
  {
   "cell_type": "markdown",
   "metadata": {},
   "source": [
    "## Simulation Setup and Execution\n",
    "\n",
    "Now the hybrid dynamical system consisting of the blocks, connections and discrete events is fully defined. Next, we can initialize the simulation and set some tolerances."
   ]
  },
  {
   "cell_type": "raw",
   "metadata": {
    "raw_mimetype": "text/restructuredtext"
   },
   "source": [
    "We use an adaptive timestep ODE solver :class:`.RKBS32` (it's essentially the same as MATLAB's ``ode23``) so the event management system can use backtracking to accurately locate the events. Finally we can run the simulation for some duration.\n"
   ]
  },
  {
   "cell_type": "code",
   "execution_count": null,
   "metadata": {},
   "outputs": [],
   "source": [
    "from pathsim.solvers import RKBS32\n",
    "             \n",
    "# Initialize simulation\n",
    "Sim = Simulation(\n",
    "    blocks, \n",
    "    connections, \n",
    "    events, \n",
    "    dt=0.01, \n",
    "    dt_max=0.04,\n",
    "    log=True, \n",
    "    Solver=RKBS32, \n",
    "    tolerance_lte_rel=1e-5, \n",
    "    tolerance_lte_abs=1e-7\n",
    ")\n",
    "\n",
    "# Run the simulation\n",
    "Sim.run(10)"
   ]
  },
  {
   "cell_type": "markdown",
   "metadata": {},
   "source": [
    "## Results\n",
    "\n",
    "Due to the object-oriented and decentralized architecture of PathSim, the scope block holds the time series data directly. Reading the recorded data is as easy as:"
   ]
  },
  {
   "cell_type": "code",
   "execution_count": null,
   "metadata": {},
   "outputs": [],
   "source": [
    "# Read the recordings from the scope directly\n",
    "time, [data_x] = Sc.read()"
   ]
  },
  {
   "cell_type": "markdown",
   "metadata": {},
   "source": [
    "And plotting the results in an external matplotlib window is also straightforward:"
   ]
  },
  {
   "cell_type": "code",
   "execution_count": null,
   "metadata": {},
   "outputs": [],
   "source": "# Plot the recordings from the scope\nfig, ax = Sc.plot(\"-\", lw=2)\nplt.show()"
  },
  {
   "cell_type": "markdown",
   "metadata": {},
   "source": [
    "We can also add the detected events to the plot by just iterating the event instance:"
   ]
  },
  {
   "cell_type": "code",
   "execution_count": null,
   "metadata": {},
   "outputs": [],
   "source": "# Create a new plot with events marked\nfig, ax = Sc.plot(\"-\", lw=2)\n\n# Add detected events to scope plot\nfor t in E1: \n    ax.axvline(t, ls=\"--\", c=\"#999999\", alpha=0.7, label=\"Bounce event\" if t == list(E1)[0] else \"\")\n\nax.legend()\nplt.show()"
  },
  {
   "cell_type": "markdown",
   "metadata": {},
   "source": [
    "## Timestep Evolution\n",
    "\n",
    "For educational purposes it might be interesting to have a look at the evolution of the timestep.\n",
    "\n",
    "We can clearly see how the adaptive integrator in combination with the event handling system approaches the event location with smaller steps and once located takes larger steps again until the next event is in sight. And so on."
   ]
  },
  {
   "cell_type": "code",
   "execution_count": null,
   "metadata": {},
   "outputs": [],
   "source": [
    "fig, ax = plt.subplots(figsize=(10, 5), tight_layout=True, dpi=120)\n",
    "\n",
    "# Add the events\n",
    "for t in E1: \n",
    "    ax.axvline(t, ls=\"--\", c=\"#999999\", alpha=0.5)\n",
    "\n",
    "# Plot the differences of time -> timesteps\n",
    "ax.plot(time[:-1], np.diff(time), lw=2, color='#2962ff')\n",
    "\n",
    "ax.set_yscale(\"log\")\n",
    "ax.set_ylabel(\"dt [s]\")\n",
    "ax.set_xlabel(\"time [s]\")\n",
    "ax.set_title(\"Adaptive Timestep Evolution\")\n",
    "ax.grid(True)\n",
    "\n",
    "plt.show()"
   ]
  }
 ],
 "metadata": {
  "kernelspec": {
   "display_name": "Python 3",
   "language": "python",
   "name": "python3"
  },
  "language_info": {
   "codemirror_mode": {
    "name": "ipython",
    "version": 3
   },
   "file_extension": ".py",
   "mimetype": "text/x-python",
   "name": "python",
   "nbconvert_exporter": "python",
   "pygments_lexer": "ipython3",
   "version": "3.10.0"
  }
 },
 "nbformat": 4,
 "nbformat_minor": 4
}