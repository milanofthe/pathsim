{
 "cells": [
  {
   "cell_type": "markdown",
   "id": "34829d58-0d57-4e51-a072-85ba31ddae69",
   "metadata": {
    "editable": true,
    "slideshow": {
     "slide_type": ""
    },
    "tags": []
   },
   "source": [
    "# RF Network - One Port"
   ]
  },
  {
   "cell_type": "markdown",
   "id": "a17a7d0b-3409-42db-9c73-928f1343e349",
   "metadata": {},
   "source": [
    "This is an example of a simulation of a Radio Frequency (RF) network with PathSim."
   ]
  },
  {
   "cell_type": "markdown",
   "id": "5f807dfc-42d6-4aa6-9c05-d50cf3e16a02",
   "metadata": {},
   "source": [
    "You can also find a similar example in the [GitHub repository](https://github.com/milanofthe/pathsim/blob/master/examples/example_spectrum_rf_oneport.py)."
   ]
  },
  {
   "cell_type": "raw",
   "id": "f7785b45-d223-4b21-9199-776db9bf9a47",
   "metadata": {
    "editable": true,
    "raw_mimetype": "text/x-rst",
    "slideshow": {
     "slide_type": ""
    },
    "tags": []
   },
   "source": [
    "In this example, we are using the block :class:`.RFNetwork` provided in PathSim to create the state-space model of an N-port RF network. This block uses the [scikit-rf](https://scikit-rf.readthedocs.io/en/latest/) package to convert the frequency domain data into a state-space model. This conversion is performed using a [Vector Fitting](https://scikit-rf.readthedocs.io/en/latest/tutorials/VectorFitting.html) method for fitting a rational function (model) to a set of frequency‐domain."
   ]
  },
  {
   "cell_type": "markdown",
   "id": "c9b536c4-9450-4b39-b719-a1f85f6f32b7",
   "metadata": {
    "editable": true,
    "slideshow": {
     "slide_type": ""
    },
    "tags": []
   },
   "source": [
    "Let's first make all the necessary import"
   ]
  },
  {
   "cell_type": "code",
   "execution_count": 5,
   "id": "489bad7b-a5a3-4a12-b57d-8464e02a220c",
   "metadata": {
    "editable": true,
    "slideshow": {
     "slide_type": ""
    },
    "tags": []
   },
   "outputs": [
    {
     "ename": "ModuleNotFoundError",
     "evalue": "No module named 'pathsim.blocks.rf'",
     "output_type": "error",
     "traceback": [
      "\u001b[1;31m---------------------------------------------------------------------------\u001b[0m",
      "\u001b[1;31mModuleNotFoundError\u001b[0m                       Traceback (most recent call last)",
      "Cell \u001b[1;32mIn[5], line 10\u001b[0m\n\u001b[0;32m      7\u001b[0m \u001b[38;5;28;01mfrom\u001b[39;00m \u001b[38;5;21;01mpathsim\u001b[39;00m\u001b[38;5;21;01m.\u001b[39;00m\u001b[38;5;21;01mblocks\u001b[39;00m \u001b[38;5;28;01mimport\u001b[39;00m Spectrum, GaussianPulseSource\n\u001b[0;32m      8\u001b[0m \u001b[38;5;28;01mfrom\u001b[39;00m \u001b[38;5;21;01mpathsim\u001b[39;00m\u001b[38;5;21;01m.\u001b[39;00m\u001b[38;5;21;01msolvers\u001b[39;00m \u001b[38;5;28;01mimport\u001b[39;00m RKBS32\n\u001b[1;32m---> 10\u001b[0m \u001b[38;5;28;01mfrom\u001b[39;00m \u001b[38;5;21;01mpathsim\u001b[39;00m\u001b[38;5;21;01m.\u001b[39;00m\u001b[38;5;21;01mblocks\u001b[39;00m\u001b[38;5;21;01m.\u001b[39;00m\u001b[38;5;21;01mrf\u001b[39;00m \u001b[38;5;28;01mimport\u001b[39;00m RFNetwork\n",
      "\u001b[1;31mModuleNotFoundError\u001b[0m: No module named 'pathsim.blocks.rf'"
     ]
    }
   ],
   "source": [
    "import matplotlib.pyplot as plt\n",
    "\n",
    "# Apply PathSim docs matplotlib style for consistent, theme-friendly figures\n",
    "plt.style.use('../pathsim_docs.mplstyle')\n",
    "\n",
    "from pathsim import Simulation, Connection\n",
    "from pathsim.blocks import Spectrum, GaussianPulseSource\n",
    "from pathsim.solvers import RKBS32\n",
    "\n",
    "from pathsim.blocks.rf import RFNetwork  # requires the scikit-rf package to be installed"
   ]
  },
  {
   "cell_type": "raw",
   "id": "143be8a6-51b1-45ad-ba2b-5bc06011ad07",
   "metadata": {
    "editable": true,
    "raw_mimetype": "text/restructuredtext",
    "slideshow": {
     "slide_type": ""
    },
    "tags": []
   },
   "source": [
    "The block :class:`.RFNetwork` takes as input either a [Touchstone file](https://en.wikipedia.org/wiki/Touchstone_file) (.sNp file) or a scikit-rf [`Network` class](https://scikit-rf.readthedocs.io/en/latest/api/network.html). An N-port network has N inputs and N outputs."
   ]
  },
  {
   "cell_type": "code",
   "execution_count": null,
   "id": "d89dffe4-7717-44b5-aaf2-3c618a3fd282",
   "metadata": {},
   "outputs": [],
   "source": [
    "# The RF-Network block is created from a scikit-rf Network object example.\n",
    "# Here we use a frequency measurement example of a 1-port RF network (included in scikit-rf)\n",
    "import skrf as rf  # for the example\n",
    "rfntwk = RFNetwork(rf.data.ring_slot_meas)"
   ]
  },
  {
   "cell_type": "markdown",
   "id": "7dec1f58-7924-442d-9e91-d1719c31b947",
   "metadata": {},
   "source": [
    "Under the hood, scikit-rf performs a Vector Fitting of the frequency data and creates a PathSim State-Space model."
   ]
  },
  {
   "cell_type": "raw",
   "id": "be668818-88e6-4648-8267-d11966f9cdda",
   "metadata": {
    "editable": true,
    "raw_mimetype": "text/restructuredtext",
    "slideshow": {
     "slide_type": ""
    },
    "tags": []
   },
   "source": [
    "In the following, we use a gaussian pulse to simulate the impulse response of the RF block. A spectrum analyzer (:class:`Spectrum`) is used to display the frequency response of the response. This frequency response is then compared to the original frequency data."
   ]
  },
  {
   "cell_type": "code",
   "execution_count": null,
   "id": "e1308665-3910-44f5-8d63-a7a45881b388",
   "metadata": {
    "editable": true,
    "slideshow": {
     "slide_type": ""
    },
    "tags": []
   },
   "outputs": [],
   "source": [
    "# Gaussian pulse simulating an impulse response\n",
    "# Note that the scikit-rf Network object is passed as the 'network' parameter of the block,\n",
    "# which is convenient to access its frequency data.\n",
    "src = GaussianPulseSource(f_max=rfntwk.network.frequency.stop)\n",
    "\n",
    "# Spectrum analyser setup with the start and stop frequencies of the RF network\n",
    "spc = Spectrum(\n",
    "    freq=rfntwk.network.f,\n",
    "    labels=[\"pulse\", \"response\"]\n",
    ")"
   ]
  },
  {
   "cell_type": "code",
   "execution_count": null,
   "id": "67f427af-deb1-417c-b602-2d454fac9489",
   "metadata": {
    "editable": true,
    "slideshow": {
     "slide_type": ""
    },
    "tags": []
   },
   "outputs": [],
   "source": [
    "# create the system connections and simulation setup\n",
    "sim = Simulation(\n",
    "    blocks=[src, rfntwk, spc],\n",
    "    connections=[\n",
    "        Connection(src, rfntwk, spc[0]),\n",
    "        Connection(rfntwk, spc[1])\n",
    "    ],\n",
    "    tolerance_lte_abs=1e-16, # this is due to the super tiny states\n",
    "    tolerance_lte_rel=1e-5,  # so error control is dominated by the relative truncation error\n",
    "    Solver=RKBS32,\n",
    ")\n",
    "\n",
    "sim.run(1e-9)"
   ]
  },
  {
   "cell_type": "markdown",
   "id": "d659c9e6-560d-4a40-a11d-cc00faf00e7d",
   "metadata": {},
   "source": [
    "Below, we compare the PathSim's frequency response to the original measurement data and to their Vector Fitted model calculated with scikit-rf. The Vector Fitted model and the PathSim's frequency response are in perfect agreement:"
   ]
  },
  {
   "cell_type": "code",
   "execution_count": null,
   "id": "b2d1f099-c806-4c11-b588-ed5ab1ba12fc",
   "metadata": {
    "editable": true,
    "slideshow": {
     "slide_type": ""
    },
    "tags": []
   },
   "outputs": [],
   "source": [
    "# model frequency response H(f) recovered from the spectrum block\n",
    "freq, (G_pulse, G_filt) = spc.read()\n",
    "H_filt_sim = G_filt / G_pulse\n",
    "\n",
    "# plot the original S11 data, the vector-fitted model and the recovered frequency response\n",
    "fig, ax = plt.subplots()\n",
    "ax.plot(rfntwk.network.f/1e9, abs(rfntwk.network.s[:, 0, 0]), '.', label=\"S11 measurements\", alpha=0.5)\n",
    "ax.plot(freq/1e9, abs(rfntwk.vf.get_model_response(0, 0, freqs=freq)), lw=2, label=\"scikit-rf vector-fitting model\")\n",
    "ax.plot(freq/1e9, abs(H_filt_sim), '--', lw=2, label=\"pathsim impulse response\")\n",
    "ax.set_xlabel(\"Frequency [GHz]\")\n",
    "ax.set_ylabel(\"S11 magnitude\")\n",
    "ax.legend()\n",
    "plt.show()"
   ]
  }
 ],
 "metadata": {
  "kernelspec": {
   "display_name": "Python [conda env:base] *",
   "language": "python",
   "name": "conda-base-py"
  },
  "language_info": {
   "codemirror_mode": {
    "name": "ipython",
    "version": 3
   },
   "file_extension": ".py",
   "mimetype": "text/x-python",
   "name": "python",
   "nbconvert_exporter": "python",
   "pygments_lexer": "ipython3",
   "version": "3.12.7"
  }
 },
 "nbformat": 4,
 "nbformat_minor": 5
}
