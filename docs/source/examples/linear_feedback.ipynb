{
 "cells": [
  {
   "cell_type": "markdown",
   "id": "0",
   "metadata": {},
   "source": [
    "# Linear Feedback System\n",
    "\n",
    "Here's a simple example of a linear feedback system, simulated with PathSim.\n",
    "\n",
    "You can also find this example as a single file in the [GitHub repository](https://github.com/milanofthe/pathsim/blob/master/examples/example_feedback.py)."
   ]
  },
  {
   "cell_type": "raw",
   "id": "1",
   "metadata": {
    "raw_mimetype": "text/restructuredtext"
   },
   "source": [
    ".. image:: figures/figures_g/linear_feedback_blockdiagram_g.png\n",
    "   :width: 700\n",
    "   :align: center\n",
    "   :alt: block diagram of linear feedback system"
   ]
  },
  {
   "cell_type": "raw",
   "id": "2",
   "metadata": {
    "raw_mimetype": "text/restructuredtext"
   },
   "source": [
    "The block diagramm above can be translated to a netlist by using the blocks and the connection class provided by PathSim. First lets import the :class:`.Simulation` and :class:`.Connection` classes and the required blocks from the block library:"
   ]
  },
  {
   "cell_type": "code",
   "execution_count": null,
   "id": "3",
   "metadata": {},
   "outputs": [],
   "source": [
    "import matplotlib.pyplot as plt\n",
    "\n",
    "# Apply PathSim docs matplotlib style for consistent, theme-friendly figures\n",
    "plt.style.use('../pathsim_docs.mplstyle')\n",
    "\n",
    "from pathsim import Simulation, Connection\n",
    "from pathsim.blocks import Source, Integrator, Amplifier, Adder, Scope"
   ]
  },
  {
   "cell_type": "markdown",
   "id": "4",
   "metadata": {},
   "source": [
    "Then lets define the system parameters such as the initial value `x0` of the integrator, the linear feedback gain `a` and the time dependend source function `s(t)`."
   ]
  },
  {
   "cell_type": "code",
   "execution_count": null,
   "id": "5",
   "metadata": {},
   "outputs": [],
   "source": [
    "# System parameters\n",
    "a, x0 = -1, 2\n",
    "\n",
    "# Delay for step function\n",
    "tau = 3\n",
    "\n",
    "# Step function\n",
    "def s(t):\n",
    "    return int(t>tau)"
   ]
  },
  {
   "cell_type": "markdown",
   "id": "6",
   "metadata": {},
   "source": [
    "Now we can construct the system by instantiating the blocks we need with their corresponding prameters and collect them together in a list:"
   ]
  },
  {
   "cell_type": "code",
   "execution_count": null,
   "id": "7",
   "metadata": {},
   "outputs": [],
   "source": [
    "# Blocks that define the system\n",
    "Src = Source(s)\n",
    "Int = Integrator(x0)\n",
    "Amp = Amplifier(a)\n",
    "Add = Adder()\n",
    "Sco = Scope(labels=[\"step\", \"response\"])\n",
    "\n",
    "blocks = [Src, Int, Amp, Add, Sco]"
   ]
  },
  {
   "cell_type": "raw",
   "id": "8",
   "metadata": {
    "raw_mimetype": "text/restructuredtext"
   },
   "source": [
    "Afterwards, the connections between the blocks can be defined. The first argument of the :class:`.Connection` class is the source block and its port (``Src[0]`` would be port ``0`` of the instance of the :class:`.Source` block, which is also the default port)."
   ]
  },
  {
   "cell_type": "code",
   "execution_count": null,
   "id": "9",
   "metadata": {},
   "outputs": [],
   "source": [
    "# The connections between the blocks\n",
    "connections = [\n",
    "    Connection(Src, Add[0], Sco[0]),\n",
    "    Connection(Amp, Add[1]),\n",
    "    Connection(Add, Int),\n",
    "    Connection(Int, Amp, Sco[1])\n",
    "]"
   ]
  },
  {
   "cell_type": "raw",
   "id": "10",
   "metadata": {
    "raw_mimetype": "text/restructuredtext"
   },
   "source": [
    "Finally we can instantiate the ``Simulation`` with the blocks, connections and some additional parameters such as the timestep. In this case, no special ODE solver is specified, so PathSim uses the default :class:`.SSPRK22` integrator which is a fixed step 2nd order explicit Runge-Kutta method. A good starting point. Then we can run the simulation for some duration which is set as ``4*tau`` in this example."
   ]
  },
  {
   "cell_type": "code",
   "execution_count": null,
   "id": "11",
   "metadata": {},
   "outputs": [],
   "source": [
    "# Initialize simulation with the blocks, connections, timestep\n",
    "Sim = Simulation(blocks, connections, dt=0.01, log=True)\n",
    "    \n",
    "# Run the simulation for some time\n",
    "Sim.run(4*tau)"
   ]
  },
  {
   "cell_type": "raw",
   "id": "12",
   "metadata": {
    "raw_mimetype": "text/restructuredtext"
   },
   "source": [
    "Due to the object oriented and decentralized nature of PathSim, the :class:`.Scope` block holds the recorded time series data from the simulation internally. It can be accessed by its ``read`` method"
   ]
  },
  {
   "cell_type": "code",
   "execution_count": null,
   "id": "13",
   "metadata": {},
   "outputs": [],
   "source": [
    "# Read the data from the scope\n",
    "time, [data_step, data_response] = Sco.read()"
   ]
  },
  {
   "cell_type": "markdown",
   "id": "14",
   "metadata": {},
   "source": [
    "or plotted directly in an external matplotlib window using the `plot` method"
   ]
  },
  {
   "cell_type": "code",
   "execution_count": null,
   "id": "15",
   "metadata": {},
   "outputs": [],
   "source": [
    "# Plot the results from the scope\n",
    "fig, ax = Sco.plot()\n",
    "plt.show()"
   ]
  }
 ],
 "metadata": {
  "kernelspec": {
   "display_name": "Python [conda env:base] *",
   "language": "python",
   "name": "conda-base-py"
  },
  "language_info": {
   "codemirror_mode": {
    "name": "ipython",
    "version": 3
   },
   "file_extension": ".py",
   "mimetype": "text/x-python",
   "name": "python",
   "nbconvert_exporter": "python",
   "pygments_lexer": "ipython3",
   "version": "3.12.7"
  }
 },
 "nbformat": 4,
 "nbformat_minor": 5
}
