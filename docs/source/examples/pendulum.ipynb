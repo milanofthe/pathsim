{
 "cells": [
  {
   "cell_type": "markdown",
   "id": "0",
   "metadata": {},
   "source": [
    "# Pendulum\n",
    "\n",
    "In this example we have a look at the mathematical pendulum.\n",
    "\n",
    "You can also find this example as a single file in the [GitHub repository](https://github.com/milanofthe/pathsim/blob/master/examples/example_pendulum.py)."
   ]
  },
  {
   "cell_type": "raw",
   "id": "1",
   "metadata": {
    "raw_mimetype": "text/restructuredtext"
   },
   "source": [
    ".. image:: figures/figures_g/pendulum_blockdiagram_g.png\n",
    "   :width: 700\n",
    "   :align: center\n",
    "   :alt: nonlinear pendulum"
   ]
  },
  {
   "cell_type": "markdown",
   "id": "2",
   "metadata": {},
   "source": [
    "Above we have both the mechanical mode, which is a weight dangling from a string with length `l` and diverted by some initial angle, as well as the block diagram representation of the equation of motion to the right.\n",
    "\n",
    "The equation of motion of the system is a nonlinear second order ODE:\n",
    "\n",
    "$$\\ddot{\\phi} = - \\frac{g}{l} \\sin(\\phi)$$"
   ]
  },
  {
   "cell_type": "markdown",
   "id": "3",
   "metadata": {},
   "source": [
    "Lets transition to Python by importing the components we need to model the system from PathSim"
   ]
  },
  {
   "cell_type": "code",
   "execution_count": null,
   "id": "4",
   "metadata": {},
   "outputs": [],
   "source": [
    "import numpy as np\n",
    "import matplotlib.pyplot as plt\n",
    "\n",
    "# Apply PathSim docs matplotlib style for consistent, theme-friendly figures\n",
    "plt.style.use('../pathsim_docs.mplstyle')\n",
    "\n",
    "from pathsim import Simulation, Connection\n",
    "\n",
    "from pathsim.blocks import (Integrator, \n",
    "    Amplifier, Function, Adder, Scope)\n",
    "\n",
    "# Using an adaptive runge-kutta method\n",
    "from pathsim.solvers import RKCK54"
   ]
  },
  {
   "cell_type": "markdown",
   "id": "5",
   "metadata": {},
   "source": [
    "and define the system parameters. Here we choose an initial angle that is close to the pendulum beeing at the top:"
   ]
  },
  {
   "cell_type": "code",
   "execution_count": null,
   "id": "6",
   "metadata": {},
   "outputs": [],
   "source": [
    "# Initial angle and angular velocity\n",
    "phi0, omega0 = 0.9*np.pi, 0\n",
    "\n",
    "# Parameters (gravity, length)\n",
    "g, l = 9.81, 1"
   ]
  },
  {
   "cell_type": "markdown",
   "id": "7",
   "metadata": {},
   "source": [
    "We can directly translate the block diagram above to PathSim blocks and connections:"
   ]
  },
  {
   "cell_type": "code",
   "execution_count": null,
   "id": "8",
   "metadata": {},
   "outputs": [],
   "source": [
    "# Blocks that define the system\n",
    "In1 = Integrator(omega0) \n",
    "In2 = Integrator(phi0) \n",
    "Amp = Amplifier(-g/l) \n",
    "Fnc = Function(np.sin)  # <- function blocks just take callables\n",
    "Sco = Scope(labels=[\"angular velocity\", \"angle\"])\n",
    "\n",
    "blocks = [In1, In2, Amp, Fnc, Sco]\n",
    "\n",
    "# Connections between the blocks\n",
    "connections = [\n",
    "    Connection(In1, In2, Sco[0]), \n",
    "    Connection(In2, Fnc, Sco[1]),\n",
    "    Connection(Fnc, Amp), \n",
    "    Connection(Amp, In1)\n",
    "]"
   ]
  },
  {
   "cell_type": "raw",
   "id": "9",
   "metadata": {
    "raw_mimetype": "text/restructuredtext"
   },
   "source": [
    "The simulation is initialized with the blocks and connections. In this case we dont use the default solver but an adaptive integrator :class:`.RKCK54` to ensure accuracy. Its an adaptive runge-kutta method from Cash and Karp, similar to Matlabs ``ode45``, which is from Dormand and Prince and :class:`.RKDP54` in PathSim. The tolerances we set here, are also for the integrator. The adaptive method controls the timestep such that the local truncation error (lte) stays below the set tolerances."
   ]
  },
  {
   "cell_type": "code",
   "execution_count": null,
   "id": "10",
   "metadata": {},
   "outputs": [],
   "source": [
    "# Simulation instance from the blocks and connections\n",
    "Sim = Simulation(\n",
    "    blocks, \n",
    "    connections, \n",
    "    dt=0.1, \n",
    "    Solver=RKCK54, \n",
    "    tolerance_lte_rel=1e-6, \n",
    "    tolerance_lte_abs=1e-8\n",
    ")"
   ]
  },
  {
   "cell_type": "markdown",
   "id": "11",
   "metadata": {},
   "source": [
    "Finally we can run the simulation for some number of seconds and see what happens."
   ]
  },
  {
   "cell_type": "code",
   "execution_count": null,
   "id": "12",
   "metadata": {},
   "outputs": [],
   "source": [
    "# Run the simulation for 15 seconds\n",
    "Sim.run(duration=15)\n",
    "\n",
    "# Plot the results directly from the scope\n",
    "fig, ax = Sco.plot(\".-\")\n",
    "plt.show()"
   ]
  },
  {
   "cell_type": "markdown",
   "id": "14",
   "metadata": {},
   "source": [
    "Since we are using an adaptive integrator, it might be interesting to also look at the timesteps the simulation takes. To do this, we just get the times from the scope and compute the differences:"
   ]
  },
  {
   "cell_type": "code",
   "execution_count": null,
   "id": "15",
   "metadata": {},
   "outputs": [],
   "source": [
    "# Read the recordings from the scope\n",
    "time, *_ = Sco.read()\n",
    "\n",
    "fig, ax = plt.subplots(figsize=(8,4), tight_layout=True, dpi=120)\n",
    "ax.plot(time[:-1], np.diff(time), lw=2)\n",
    "ax.set_ylabel(\"dt [s]\")\n",
    "ax.set_xlabel(\"time [s]\")\n",
    "ax.grid(True)\n",
    "plt.show()"
   ]
  },
  {
   "cell_type": "markdown",
   "id": "17",
   "metadata": {},
   "source": [
    "We can clearly see that the integrator takes smaller steps when the pendulum gets closer to regions where the solution trajectory is more dynamic to keep the local truncation error below the tolerances."
   ]
  }
 ],
 "metadata": {
  "kernelspec": {
   "display_name": "Python [conda env:base] *",
   "language": "python",
   "name": "conda-base-py"
  },
  "language_info": {
   "codemirror_mode": {
    "name": "ipython",
    "version": 3
   },
   "file_extension": ".py",
   "mimetype": "text/x-python",
   "name": "python",
   "nbconvert_exporter": "python",
   "pygments_lexer": "ipython3",
   "version": "3.12.7"
  }
 },
 "nbformat": 4,
 "nbformat_minor": 5
}
